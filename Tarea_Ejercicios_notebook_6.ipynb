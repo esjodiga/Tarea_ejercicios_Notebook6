{
  "nbformat": 4,
  "nbformat_minor": 0,
  "metadata": {
    "colab": {
      "name": "Tarea. Ejercicios notebook #6.ipynb",
      "provenance": [],
      "collapsed_sections": []
    },
    "kernelspec": {
      "name": "python3",
      "display_name": "Python 3"
    },
    "language_info": {
      "name": "python"
    }
  },
  "cells": [
    {
      "cell_type": "markdown",
      "source": [
        "####**Estuardo J. Díaz García (22008995)**\n",
        "\n",
        "---\n",
        "\n",
        "# **Tarea 5: vectores en Numpy**\n",
        "\n",
        "**Sección #1**: Términos a investigar"
      ],
      "metadata": {
        "id": "mLi6TW_XUrLB"
      }
    },
    {
      "cell_type": "markdown",
      "source": [
        "### **Proyección vectorial:**"
      ],
      "metadata": {
        "id": "dIeePt4_3NoX"
      }
    },
    {
      "cell_type": "markdown",
      "source": [
        "Un vector se puede proyectar sobre otro vector o sobre un plano.\n",
        "Coloquialmente, podríamos explicarlo como la \"sombra\" que un vector proyectaría sobre otro vector o sobre un plano.\n",
        "Representándolo gráficamente, tenemos el vector **u** y el **v**, como aparecen abajo. Ambos se unen formando un ángulo alfa (α).\n",
        "\n",
        "![proyeccion-vectores-1.png](data:image/png;base64,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)\n",
        "\n",
        "Fuente: https://ekuatio.com/\n",
        "\n",
        "Al trazar una recta perpendicular desde el punto en donde finaliza el vector u hasta tocar al vector v se tendría el punto al cual llegaría la proyección de u sobre v.\n",
        "\n",
        "![proyeccion-vectores-2.png](data:image/png;base64,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)\n",
        "\n",
        "Fuente: https://ekuatio.com/\n",
        "\n",
        "Ahora, al trazar un nuevo vector que iría del origen de ambos (u y v) hasta el punto en donde la línea perpendicular que trazamos toca al vector v obtendríamos el vector proyectado.\n",
        "\n",
        "![proyeccion-vectores-3.png](data:image/png;base64,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)\n",
        "\n",
        "Fuente: https://ekuatio.com/\n",
        "\n",
        "Esto, dependiendo de el ángulo entre ambos vectores, podría generar una proyección hacia la dirección contraria del vector sobre el cual se está proyectando.\n",
        "\n",
        "![proyeccion-vectores-7.png](data:image/png;base64,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)\n",
        "Fuente: https://ekuatio.com/\n",
        "\n",
        "Para calcular la proyección del vector u sobre el vector v se utiliza la fórmula siguiente:\n",
        "![quicklatex.com-88bbab4b50b8b737fe3ee634b2a9e23d_l3.png](data:image/png;base64,iVBORw0KGgoAAAANSUhEUgAAAMYAAAAnBAMAAACmrSpJAAAABGdBTUEAALGPC/xhBQAAACBjSFJNAAB6JgAAgIQAAPoAAACA6AAAdTAAAOpgAAA6mAAAF3CculE8AAAACXBIWXMAAA7EAAAOxAGVKw4bAAAAB3RJTUUH4wscFjUSeDh2hgAAADBQTFRF////AAAAAAAAAAAAAAAAAAAAAAAAAAAAAAAAAAAAAAAAAAAAAAAAAAAAAAAAAAAAL92gewAAAA90Uk5TABAiMkRUZnaJmau7zd3vjjpLhQAAAAFiS0dEAIgFHUgAAAPmSURBVEjH7ZZLbBtVFIa/O576MbYz4+yyQBksJBY8PF0VdePZIVGBvWLBorFExTZG7JAgropUhIQ6Ui2hNKHxNqQSRkgQHlLMhvIQxO2mPJQqSF2wwXHiOHGwwSzujGPHnjxQIzb8m3t07zn317nn3P9eeJh47MD40JFIJJ4y+8ZTgPLD2tqGsz+eFr4+MB4bgdyw5QPrwHgEzvSsC55R4aq/v3gnxwsAE5/wtN23EPOPWcl653zHm7pNzPb114J13gcoTZMq9HPkfWO+7PlkgUdqtVqtayvrvv7ntCq/AIH8LcLutuJ+rVbb2D760C4CKMlk8vFdWPZ1M/S82AEEuwS9dJPJZHImfzTHPc8YsyFj+PplTHULQN0i3D//4BhdtdmrKjDm31k3CdcNILJOZCDBoznC1YHKVnwdvyBWflWAVua1oU2WzJfmTG58FFp0gAuffQyE5r1TjJeA88sQKQOhui/Hu0w7zmSFUDXgtdX5ZbgF8GLsdi64Gcz++lZ4B6J3SdtwXW24fnoOFCdjoZeBQMO/eRdf/s6KOzDv3SLFyVh0baAcayJaGhu5sQb8aBCtEsyrO65jyoaIMWOTKQBKU/ZaV6J96DFHjBmbaQtESa8iOhOigzAINUHbIkpo2xXptAURVuCaDQhJLZISjx7OwYqBbgBmuoD617i6C5CqQ2wbheimK9JTJoyLNqwC0Bq1WXckEKLtScmMTbBNuAGw4MBYA9ArrkhPm0CwCR0A9k7AQbAJE1KZDLRdYnWA1Syk60C64Ir0lAlE6wRa/nkM4/UlS4ZxCYAO6JvoFYANExYKMjkp0mkLGKsS2hYGIOsxdaDmZ+FsvxnKnmkAehVKAIEWTOVl27AK/AGw4ol0ygYmS0Q3wwaI5siaF6Eo29UuQpG4xc8yLJAHCO3Bmts2zJhuYTqeSOt5QHdIrWuAOvp+SA6RSIzfLUKRaI7vZVjUAIj+aWhlr23iDm/agNryRDpeAqIVsbT+rP89lxxPrq3d3/NS2gW0KtelnN5Z/BT4VnrfmLsMEN72RDpSBcTSbOLzgr9e9c4qlnPN8G8A87Pyg5Ia9YeI1T2RDmz1z/vobo8j4JnPD/x+prMjgiZLPZH+aeCRwJ9DzOWUBy5H4KuB9Q+H/luixjWrJ9IX+5eWD+HQgnWl5XI8MfiG/D0UobbVJngiHevL0+89L0KRc1qFq9JU7r3ydt/yQvf3oZDZDyzwRFrpe6Ti9iEchp7nkjTj3e7Oif5wz+2b73EIBxmTwn75TwT16H+i3PgmOP+S4xiQGy8Rsk6b4w2e4bQ5It/kT53joPk/x3/FcQWuDJse/gHWb3U+Fydj9gAAACJ0RVh0Y29tbWVudABSZW5kZXJlZCBieSBRdWlja0xhVGVYLmNvbSBJ0LYAAAAldEVYdGRhdGU6Y3JlYXRlADIwMTktMTEtMjhUMjI6NTM6MTgrMDk6MDBYp85NAAAAJXRFWHRkYXRlOm1vZGlmeQAyMDE5LTExLTI4VDIyOjUzOjE4KzA5OjAwKfp28QAAAABJRU5ErkJggg==)\n",
        "\n"
      ],
      "metadata": {
        "id": "JqYpJkT6VhIf"
      }
    },
    {
      "cell_type": "code",
      "execution_count": null,
      "metadata": {
        "id": "4iD8ulPgUjmV",
        "colab": {
          "base_uri": "https://localhost:8080/",
          "height": 300
        },
        "outputId": "f633ffd9-47cf-4456-9147-236d720ef097"
      },
      "outputs": [
        {
          "output_type": "execute_result",
          "data": {
            "text/plain": [
              "Text(0, 0.5, 'y')"
            ]
          },
          "metadata": {},
          "execution_count": 2
        },
        {
          "output_type": "display_data",
          "data": {
            "text/plain": [
              "<Figure size 432x288 with 1 Axes>"
            ],
            "image/png": "[encoded data removed]"
          },
          "metadata": {
            "needs_background": "light"
          }
        }
      ],
      "source": [
        "#Ejemplo. Proyección vectorial\n",
        "import numpy as np \n",
        "import matplotlib.pyplot as plt\n",
        "\n",
        "#tenemos los vectores siguientes:\n",
        "u=np.array([8,8])\n",
        "v=np.array([10,0])\n",
        "\n",
        "#los graficamos para una mejor visualización\n",
        "plt.quiver([0,0],[0,0],[u[0],v[0]],[u[1],v[1]],scale_units=\"xy\",angles=\"xy\",scale=1)\n",
        "plt.xlim(0,20)\n",
        "plt.ylim(0,20)\n",
        "plt.axvline(x=8,color=\"grey\",linestyle=\"--\", alpha=0.8)\n",
        "plt.xlabel('x')\n",
        "plt.ylabel('y')"
      ]
    },
    {
      "cell_type": "code",
      "source": [
        "#Determinamos la proyección del vector u sobre el vector v\n",
        "producto_punto=u.dot(v)\n",
        "magnitud_v = v.dot(v) #la magnitud del vector v al cuadrado\n",
        "proyec_u_v=((producto_punto/magnitud_v)*v)\n",
        "print(proyec_u_v)"
      ],
      "metadata": {
        "id": "UqqkJC1qhLA2",
        "colab": {
          "base_uri": "https://localhost:8080/"
        },
        "outputId": "4bf417bb-62ba-4082-d72f-2beb5983b30a"
      },
      "execution_count": null,
      "outputs": [
        {
          "output_type": "stream",
          "name": "stdout",
          "text": [
            "[8. 0.]\n"
          ]
        }
      ]
    },
    {
      "cell_type": "code",
      "source": [
        "proyec_u_v.shape"
      ],
      "metadata": {
        "colab": {
          "base_uri": "https://localhost:8080/"
        },
        "id": "dSpxcGfJwyWR",
        "outputId": "7008fab7-3c56-407f-abfe-19994589ba39"
      },
      "execution_count": null,
      "outputs": [
        {
          "output_type": "execute_result",
          "data": {
            "text/plain": [
              "(2,)"
            ]
          },
          "metadata": {},
          "execution_count": 4
        }
      ]
    },
    {
      "cell_type": "code",
      "source": [
        "#los graficamos nuevamente para una mejor visualización\n",
        "plt.quiver([0,0,0],[0,0,0],[u[0],v[0],proyec_u_v[0]],[u[1],v[1],proyec_u_v[1]],scale_units=\"xy\",angles=\"xy\",scale=1)\n",
        "plt.xlim(0,20)\n",
        "plt.ylim(0,20)\n",
        "plt.axvline(x=8,color=\"grey\",linestyle=\"--\", alpha=0.8)\n",
        "plt.xlabel('x')\n",
        "plt.ylabel('y')\n",
        "\n",
        "#vemos ahora que el nuevo vector \"proyec_u_v\" aparece ya en la gráfica"
      ],
      "metadata": {
        "colab": {
          "base_uri": "https://localhost:8080/",
          "height": 300
        },
        "id": "PmJwg6CK0ck5",
        "outputId": "89ee325c-338d-440a-8979-450ff5056b58"
      },
      "execution_count": null,
      "outputs": [
        {
          "output_type": "execute_result",
          "data": {
            "text/plain": [
              "Text(0, 0.5, 'y')"
            ]
          },
          "metadata": {},
          "execution_count": 5
        },
        {
          "output_type": "display_data",
          "data": {
            "text/plain": [
              "<Figure size 432x288 with 1 Axes>"
            ],
            "image/png": "[encoded data removed]"
          },
          "metadata": {
            "needs_background": "light"
          }
        }
      ]
    },
    {
      "cell_type": "markdown",
      "source": [
        "Un **ejemplo** de uso para la proyección vectorial "
      ],
      "metadata": {
        "id": "2HgzXb8C1VSv"
      }
    },
    {
      "cell_type": "markdown",
      "source": [
        "### **Producto cruz o producto vectorial:**"
      ],
      "metadata": {
        "id": "9qxMDOpj2hCB"
      }
    },
    {
      "cell_type": "markdown",
      "source": [
        "El producto vectorial o producto cruz de dos vectores se representa como a x b (se interpreta como \"a cruz b\"). Matemáticamente, el producto cruz de un vector a por un vector v tendría la fórmula siguiente:\n",
        "\n",
        "\n",
        "![producto cruz khan academy.png](data:image/png;base64,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)\n",
        "\n",
        "Fuente: Khan academy (https://es.khanacademy.org/)"
      ],
      "metadata": {
        "id": "R34MybSK3Vly"
      }
    },
    {
      "cell_type": "code",
      "source": [
        "#Al tener vectores a y b\n",
        "a = np.array([13,26,91])\n",
        "b = np.array([25,-43,11])\n",
        "\n",
        "#Obtenemos el producto cruz de a x b con la sentencia np.cross(a,b)\n",
        "np.cross(a,b)"
      ],
      "metadata": {
        "colab": {
          "base_uri": "https://localhost:8080/"
        },
        "id": "8sT23z4X0uDm",
        "outputId": "d5a2736f-4ffe-481d-cc02-da06848fb4a1"
      },
      "execution_count": null,
      "outputs": [
        {
          "output_type": "execute_result",
          "data": {
            "text/plain": [
              "array([ 4199,  2132, -1209])"
            ]
          },
          "metadata": {},
          "execution_count": 6
        }
      ]
    },
    {
      "cell_type": "markdown",
      "source": [
        "# **Ejercicios del Notebook #6**\n",
        "---\n",
        "\n"
      ],
      "metadata": {
        "id": "maZDqzeTMREg"
      }
    },
    {
      "cell_type": "markdown",
      "source": [
        "**Ejercicio #1:**\n",
        "ejercicio : en data science y programación científica es común necesitar vectores con valores dentro de cierto intervalo, pero con sub-intervalos internos con diference espaciamiento ,por ejemplo:\n",
        "\n",
        "[0. , 0.1 , 0.2 , 0.3 , 0.4 , 0.5 , 0.51, 0.52, 0.53, 0.54, 0.55, 0.56, 0.57, 0.58, 0.59, 0.6 , 0.7 , 0.8 , 0.9 , 1. ]\n",
        "\n",
        "El primer sub-intervalo incrementa de 0.1 en 0.1 , el segundo de 0.01 en 0.01 , y el tercero de 0.1 en 0.1 nuevamente.\n",
        "\n",
        "Usando unicamente NumPy crea un vector de este tipo con el nombre xs .\n",
        "\n",
        "nota: no es permitido usar ciclos, debe realizarse con operaciones \"vectorizadas\" de numpy"
      ],
      "metadata": {
        "id": "EIu4J2-2PSBD"
      }
    },
    {
      "cell_type": "code",
      "source": [
        "#Se crean 3 vectores con arange y luego se concatenan con np.hstack\n",
        "a=np.arange(0.1,0.6,0.1,dtype=float)\n",
        "b=np.arange(0.51,0.6,0.01,dtype=float)\n",
        "c=np.arange(0.6,1.01,0.1,dtype=float)\n",
        "np.hstack((a,b,c))"
      ],
      "metadata": {
        "id": "24AJj-lmT-MM",
        "colab": {
          "base_uri": "https://localhost:8080/"
        },
        "outputId": "51782cb3-0af3-4f41-ce62-2ce75bd9daef"
      },
      "execution_count": null,
      "outputs": [
        {
          "output_type": "execute_result",
          "data": {
            "text/plain": [
              "array([0.1 , 0.2 , 0.3 , 0.4 , 0.5 , 0.51, 0.52, 0.53, 0.54, 0.55, 0.56,\n",
              "       0.57, 0.58, 0.59, 0.6 , 0.7 , 0.8 , 0.9 , 1.  ])"
            ]
          },
          "metadata": {},
          "execution_count": 7
        }
      ]
    },
    {
      "cell_type": "markdown",
      "source": [
        "**Ejercicio #2:**\n",
        "Ejercicio (parte de tarea) En este caso usamos un ciclo para ejemplificar pero ya hemos mencionado que debemos evitarlos siempre que sea posible y usar operaciones \"vectorizadas\" ya que es mucho mas rápido al utilizar código pre-compilado de C, en este ejercicio debemos remplazar el calculo de ys para hacerlo de manera \"vectorizada\" y eliminar el ciclo for."
      ],
      "metadata": {
        "id": "VM4Ad1j_JUuY"
      }
    },
    {
      "cell_type": "code",
      "source": [
        "sample_points = 10000\n",
        "inicio_intervalo = 0\n",
        "ruido = 0.5*np.random.randn(sample_points) #el ruido comunmente se debe a aleatoriedad o captura no exacta de info.\n",
        "x = np.linspace(inicio_intervalo,5*np.pi,sample_points) \n",
        "y = np.sin(x) + ruido\n",
        "\n",
        "import pandas as pd\n",
        "#ys es \"y suavizado\", inicialmente es una copia de y\n",
        "ys =  y.copy()\n",
        "\n",
        "longitud_filtro=150\n",
        "media_movil=np.convolve(ys,np.ones((longitud_filtro)),mode=\"same\")\n",
        "media_movil /= longitud_filtro\n",
        "\n",
        "plt.plot(x,y)\n",
        "plt.plot(x,media_movil)\n",
        "plt.xlim(inicio_intervalo,5*np.pi + 0.5)\n",
        "plt.show()"
      ],
      "metadata": {
        "colab": {
          "base_uri": "https://localhost:8080/",
          "height": 265
        },
        "id": "8ijjtkVdIRpi",
        "outputId": "b1d04aaf-bb2a-4d88-fe53-837137f6070b"
      },
      "execution_count": null,
      "outputs": [
        {
          "output_type": "display_data",
          "data": {
            "text/plain": [
              "<Figure size 432x288 with 1 Axes>"
            ],
            "image/png": "[encoded data removed]"
          },
          "metadata": {
            "needs_background": "light"
          }
        }
      ]
    },
    {
      "cell_type": "markdown",
      "source": [
        "**Ejercicio #3:**\n",
        "Ejercicio Para calcular la información de una distribución de probabilidad necesitamos calcular el producto entre la información de cada posible x y su probabilidad , cada uno de estos elementos nos indica cuanta incerteza aporta cada x a la entropía de la distribución. Crea una función que calcule esto, debe recibir un vector representando a la dist. de probabilidad y devoler otro vector con el termino de entropía para cada x. Por ejemplo:\n",
        "\n",
        "calcular_entropia([0.25,0.75])\n",
        "\n",
        "Debe resultar en :\n",
        "\n",
        "[0.5 , 0.31127812]\n",
        "\n",
        "Nota: la entropía es la suma sobre estos valores, en este caso no calculamos la entropía,unicamente los termimos de su sumatoria. La entropía es:\n",
        "\n",
        "$$S = -\\sum_i^nP(x_{i})log_{2}P(x_{i})$$"
      ],
      "metadata": {
        "id": "oBq_dnpkw90o"
      }
    },
    {
      "cell_type": "code",
      "source": [
        "#pendiente"
      ],
      "metadata": {
        "id": "pa2nwLr4J31N"
      },
      "execution_count": null,
      "outputs": []
    },
    {
      "cell_type": "markdown",
      "source": [
        "**Ejercicio #4:**\n",
        "Ejercicio: se ha determinado también que hay costos asociados a la comunicación y relación con los clientes(llamadas,mensajes electrónicos,etc) y que estos también tienen alta correlación con el monto que estos gastan en su primer més siguiendo el modelo:\n",
        "$$c(x) = (x^{2} + x + log (0.0001x)-\\sqrt{0.54x})/100$$\n",
        "\n",
        "Cree una función para calcular este modelo sobre valores de de gasto de nuevos clientes , y luego cree una función  **ganancia_neta(x,g,c)** donde:\n",
        "* x = vector conteniendo los valores de gasto del primer mes para nuevos clientes.\n",
        "* g = función que estima la ganancia en función de x\n",
        "* c = función que estima el costo en función de x\n",
        "\n",
        "La función realiza el calculo simple **g(x) - c(x)** , ya que es posible que los modelos cambien en el tiempo es común recibir como parámetro el modelo o modelos hijos de un modelo mas grande , en este caso eso se logra recibiendo como parámetro las funciones de ganancia y costo."
      ],
      "metadata": {
        "id": "Tcw7Pb_jyIbI"
      }
    },
    {
      "cell_type": "code",
      "source": [
        "def g(x): #<- vector\n",
        "    \n",
        "    ganancia = (np.power(x,3) + 2.0*(np.power(x,2.0))+np.exp(0.0001*x) - np.sqrt(2.0*x))/50\n",
        "    \n",
        "    return ganancia # <- vector del mismo tamaño que x\n",
        "    \n",
        "gastos = np.array([100,50,25,100]) #vector\n",
        "ganancia = g(gastos)\n",
        "\n",
        "print(\"Ganancias\",ganancia)"
      ],
      "metadata": {
        "colab": {
          "base_uri": "https://localhost:8080/"
        },
        "id": "kpzz_CFN0Osc",
        "outputId": "b42d798a-e06f-45a2-8aa1-5255d2568bb9"
      },
      "execution_count": null,
      "outputs": [
        {
          "output_type": "stream",
          "name": "stdout",
          "text": [
            "Ganancias [20399.73735829  2599.82010025   337.37862871 20399.73735829]\n"
          ]
        }
      ]
    },
    {
      "cell_type": "code",
      "source": [
        "def ganancia_neta(x):\n",
        "  ingreso = (np.power(x,3) + 2.0*(np.power(x,2.0))+np.exp(0.0001*x) - np.sqrt(2.0*x))/50\n",
        "  costo = ((np.power(x,2) + x + np.log(0.0001*x)-np.sqrt(0.54*x))/100)\n",
        "  ganancia_neta=ingreso-costo\n",
        "  return ganancia_neta\n",
        "\n",
        "cliente=np.array([100,50,25,100])\n",
        "ganancia_neta(cliente)\n"
      ],
      "metadata": {
        "colab": {
          "base_uri": "https://localhost:8080/"
        },
        "id": "j6kD6EBbyH4E",
        "outputId": "9d96e0bb-541e-4f4a-bc92-603ef6fddbf6"
      },
      "execution_count": null,
      "outputs": [
        {
          "output_type": "execute_result",
          "data": {
            "text/plain": [
              "array([20298.85689469,  2574.42504495,   330.9752857 , 20298.85689469])"
            ]
          },
          "metadata": {},
          "execution_count": 24
        }
      ]
    },
    {
      "cell_type": "markdown",
      "source": [
        "**Ejercicio #5:**\n",
        "Ejemplo aplicado: En un datawarehouse se tiene un modelo \"lifetime value\" en el que se almacena de manera acumulativa cuantas ganancias se han percibido a lo largo de la vida de los usuarios, un ETL en Python debe calcularlo en función de un vector que contiene de manera ordenada en el tiempo los ingresos percibidos mensualmente para cierto usuario. Podemos usar la funcion np.cumsum para esto, en este ejercicio necesitamos determinar el \"lifetime value\" de cierto usuario en su 6to mes:"
      ],
      "metadata": {
        "id": "WUUu8HyQ4tdP"
      }
    },
    {
      "cell_type": "code",
      "source": [
        "def lifetime_value(ganancias_mensuales):\n",
        "  lifetime_value_usuario=np.cumsum(ganancias_mensuales)\n",
        "  return(lifetime_value_usuario)\n",
        "\n",
        "# Prueba:\n",
        "ganancias_usuario = np.array([25,150,125,75,100,45,22,30])\n",
        "lifetime_value_usuario = lifetime_value(ganancias_usuario)\n",
        "\n",
        "print(\"Lifetime value:\",lifetime_value_usuario)\n",
        "\n",
        "print(\"El valor del usuario a su sexto mes es :\",\"Q\",lifetime_value_usuario[5])"
      ],
      "metadata": {
        "colab": {
          "base_uri": "https://localhost:8080/"
        },
        "id": "KV8RA0Yxzyyx",
        "outputId": "4beb453b-1b48-4d4e-bdeb-9714959c0443"
      },
      "execution_count": null,
      "outputs": [
        {
          "output_type": "stream",
          "name": "stdout",
          "text": [
            "Lifetime value: [ 25 175 300 375 475 520 542 572]\n",
            "El valor del usuario a su sexto mes es : Q 520\n"
          ]
        }
      ]
    },
    {
      "cell_type": "markdown",
      "source": [
        "**Ejercicio #6:** Ejercicio: Usando argmax crear una función mode(x) para calcular la moda de un vector x , esta función debe devolver una tupla de 2 elementos de la forma:\n",
        "(valor,conteo)\n",
        "\n",
        "tip investigar y auxiliarse de otras funciones de numpy y np.argmax, no olvidar trabajar todo vectorizado, sin ciclos."
      ],
      "metadata": {
        "id": "rMdFPetH_WP3"
      }
    },
    {
      "cell_type": "code",
      "source": [
        "def mode(x):\n",
        "  moda=Counter()\n",
        "  conteo=\n",
        "  return (moda,conteo)"
      ],
      "metadata": {
        "id": "0tzyekou6kL0"
      },
      "execution_count": null,
      "outputs": []
    }
  ]
}