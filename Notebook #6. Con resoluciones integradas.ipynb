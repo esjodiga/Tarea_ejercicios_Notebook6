{
  "nbformat": 4,
  "nbformat_minor": 0,
  "metadata": {
    "kernelspec": {
      "display_name": "Python 3",
      "language": "python",
      "name": "python3"
    },
    "language_info": {
      "codemirror_mode": {
        "name": "ipython",
        "version": 3
      },
      "file_extension": ".py",
      "mimetype": "text/x-python",
      "name": "python",
      "nbconvert_exporter": "python",
      "pygments_lexer": "ipython3",
      "version": "3.7.2"
    },
    "colab": {
      "name": "Clase_06_Numpy y linalg_.ipynb",
      "provenance": [],
      "collapsed_sections": [
        "dpTxVAeOaxs-",
        "IEhuGnCJaxtT",
        "mggBAMXWaxtU",
        "NQsZTEy3axtd",
        "RdpBYHliaxte",
        "Nzg9gVdoaxtj",
        "TVcTQSn8axts",
        "7NGf_2y5axtu",
        "XTSzWXdsaxt1",
        "GGDfc5t_axt4",
        "uFI8KNdLaxt9",
        "80bTM6XbaxuJ",
        "AZnrBQW6axuV"
      ]
    }
  },
  "cells": [
    {
      "cell_type": "markdown",
      "metadata": {
        "id": "pydYdlvTaxr0"
      },
      "source": [
        "# NumPy y algebra lineal(parte 1) \n",
        "\n",
        "\n",
        "* Su nombre se deriva de Numeric Python\n",
        "* Es una libreria amplia:   user guide de casi 200 pagina, reference manual mas de 1500\n",
        "    * np. <tab> para ver opciones\n",
        "    * np.lookfor? , help(np.lookfor)\n",
        "    * np.lookfor(“cosine”)\n",
        "    * np.cos? , help(np.cos)\n",
        "* Paquete fundamental de computación científica en Python y báse para otros paquetes mas específicos y/o avanzados\n",
        "* Performance superior, parecido a lenguajes compilados con la facilidad de Python\n",
        "* ndarrays :  tipo básico de objeto, corresponde al tipo de objeto matemático conocido como Tensor\n",
        "    * Arreglos multidimensionales\n",
        "    * Mutables como las listas\n",
        "    * Podemos hacer indexing y slicing sobre ellos\n",
        "\n",
        "* Tipo de dato y tamaño fijado en creación lo cual le permite aplicar optimizaciones: El usar el mismo tipo y tamaño definido permite asegurar que todos los objetos utilizan el mismo tamaño de memoria y esto permite realizar muchas operaciones pre-compiladas de C. Esto permite realizar operaciones mucho mas efcientemente y con menos código que con listas.\n",
        "* Operaciones vectorizadas vs por ciclos como ventaja de numpy(simplicidad y eficiencia) **Nota**: Siempre usar vectorizacion en el curso y en la carrera.\n",
        "\n",
        "## ¿Por que estudiamos en ciencia de datos álgebra lineal?\n",
        "\n",
        "Algebra lineal es una bella rama de la matemáticas que tiene muchas aplicaciones en diversas áreas, en ciencias de la computación y ciencia de datos tiene también innumerables aplicaciones  pero existe un motivo por el cual se vuelve escencial :\n",
        "\n",
        "**Todo algoritmo, modelo matemático, estadístico ,  AI , etc trabaja con números y colecciones de estos**, aún los modelos para variables categóricas transforman de algún modo estas a una representación numérica, en ciencia de datos llamamos **embedding** al proceso de convertir datos no numéricos a representaciones numéricas y a las estructuras de datos resultantes(comunmente vectores) **embeddings** .\n",
        "\n",
        "Podemos pensar entonces que el algebra lineal y sus estructuras entonces nos proveen una **manera de representar y trabajar información en la computadora**\n",
        "\n",
        "<img src=\"https://upload.wikimedia.org/wikipedia/commons/thumb/4/45/Components_stress_tensor.svg/300px-Components_stress_tensor.svg.png\"/>\n",
        "\n",
        "### Ejemplos:\n",
        "\n",
        "* Computer Vision: imagenes son tensores\n",
        "* NLP: palabras son vectores.\n",
        "\n",
        "Algebra lineal por si solo es un campo amplio(algunas universidades dan 2 cursos de 1 semestre o mas del tema) y no podemos cubrir todo lo que nos gustaría en esta clase, pero existe gran variedad de recursos en internet y es un tema que agrega valor en tu carrera de data science, especialmente si tu interés principal es ML y AI. Por ejemplo:\n",
        "\n",
        "* Uno de los algoritmos mas famosos de ML: support VECTOR machine\n",
        "* Uno de los metodos mas populares de AI en la actualidad es \"deep learning\" que se basa en transformaciones lineales (multiplicación de matrices).\n",
        "* Los frameworks mas populares de ML tienen al algebra lineal como elemento base:\n",
        "    * TensorFlow incluso basa su nombre en la estructura básica: Tensor\n",
        "    * PyTorch: en Pytorch, la estructura de datos básica es precisamente el Tensor\n",
        "    \n",
        "\n",
        "### ¿NumPy mas que algebra lineal?\n",
        "\n",
        "Aun que NumPy se basa mucho y es muy útil para algebra lineal y estructuras de esta rama, también es útil para realizar otros tipos de operaciones numéricas y es la base  para otros paquetes mas específicos , por ejemplo podemos usar NumPy también para:\n",
        "\n",
        "* Numeros aleatorios: NumPy provee capacidades para trabajar con números aleatorios y colecciones de esto, por ejemplo generación de numeros aleatorios de muchas distribuciones de probabiliad(muestreo/sampleo) escencial en estadística y modelación y simulación.\n",
        "* Transormadas de Fourier\n",
        "* Scipy: paquete basado en Python que extiende muchas de sus capacidades con capacidades adicionales como:\n",
        "    * Integración y solución de ecuaciones diferenciales.\n",
        "    * Encontrar raices de funciones y optimización numérica.\n",
        "    * Algebra lineal adicional.\n",
        "    \n",
        "    \n",
        "    \n",
        "Para usar NumPy es necesario instalarlo, si usamos Anaconda debemos instalarlo en el ambiente deseado, en linea de comandos esto se gra facilmente con:\n",
        "\n",
        "**conda install numpy**"
      ]
    },
    {
      "cell_type": "markdown",
      "metadata": {
        "id": "Uh5wKIWYaxsP"
      },
      "source": [
        "# Instalar numpy desde el jupyter notebook en el ambiente actual de Anaconda\n",
        "# esto puede ser realizado de manera tradicional con linea de comandos o Anaconda Navigator\n",
        "import sys\n",
        "!conda install --yes --prefix {sys.prefix} numpy\n",
        "\n",
        "# ! ejecuta un comando del sistema desde el notebook, el comando ejecutado fue:\n",
        "print(\"Comando ejecutado:conda install --yes --prefix {\"+sys.prefix+\"} numpy\")"
      ]
    },
    {
      "cell_type": "markdown",
      "metadata": {
        "id": "J3aAEmNxaxsR"
      },
      "source": [
        "Para poder utilizar numpy debemos importar el paquete, es casi un estandar de la industria importarlo bajo el alias **\"np\"**"
      ]
    },
    {
      "cell_type": "code",
      "metadata": {
        "id": "bqWr8RdPaxsT"
      },
      "source": [
        "import numpy as np"
      ],
      "execution_count": 7,
      "outputs": []
    },
    {
      "cell_type": "code",
      "source": [
        "np.lookfor(\"cosine\")"
      ],
      "metadata": {
        "colab": {
          "base_uri": "https://localhost:8080/"
        },
        "id": "iDzEwY9oQpv4",
        "outputId": "05ed018c-b081-4df8-ddb1-bfbb441e177a"
      },
      "execution_count": 8,
      "outputs": [
        {
          "output_type": "stream",
          "name": "stdout",
          "text": [
            "Search results for 'cosine'\n",
            "---------------------------\n",
            "numpy.cos\n",
            "    Cosine element-wise.\n",
            "numpy.cosh\n",
            "    Hyperbolic cosine, element-wise.\n",
            "numpy.arccos\n",
            "    Trigonometric inverse cosine, element-wise.\n",
            "numpy.arccosh\n",
            "    Inverse hyperbolic cosine, element-wise.\n",
            "numpy.hamming\n",
            "    Return the Hamming window.\n",
            "numpy.hanning\n",
            "    Return the Hanning window.\n",
            "numpy.ma.cos\n",
            "    Cosine element-wise.\n",
            "numpy.ma.cosh\n",
            "    Hyperbolic cosine, element-wise.\n",
            "numpy.ma.arccos\n",
            "    Trigonometric inverse cosine, element-wise.\n",
            "numpy.ma.arccosh\n",
            "    Inverse hyperbolic cosine, element-wise.\n",
            "numpy.blackman\n",
            "    Return the Blackman window."
          ]
        }
      ]
    },
    {
      "cell_type": "markdown",
      "metadata": {
        "id": "fxvMDqpLaxsV"
      },
      "source": [
        "## Escalares y Vectores (Arreglos de una dimension): \n",
        "\n",
        "La pieza clave y fundamental para el algebra lineal es el **vector** (pero aun que el vector es la base, hay un objeto mas general que este como veremos mas adelante.).\n",
        "\n",
        "<img src=\"https://raw.githubusercontent.com/llealgt/Galileo_Python_DS/main/NumPy_algebra_lineal/Seleccion_999_2003.png\">\n",
        "\n",
        "<img src=\"https://raw.githubusercontent.com/llealgt/Galileo_Python_DS/main/NumPy_algebra_lineal/fisica_cs.png\">\n",
        "\n",
        "Matemáticamente el Tensor es la entidad mas general cuando hablamos de arreglos o colecciones de elementos y que comunmente representan coordenadas en un plano posiblemente multidimensional, por lo tanto al traducirlo a software científico un tensor es también la estructura mas general para trabajar ,y es la estructura de datos básica en la cual almacenaremos información, **NumPy logra esto a través del objeto ndarray**(tensorflow usa tf.Tensor, PyTorch usa  torch.Tensor).\n",
        "\n",
        "<img src=\"https://upload.wikimedia.org/wikipedia/commons/thumb/4/45/Components_stress_tensor.svg/300px-Components_stress_tensor.svg.png\"/>\n",
        "\n",
        "<img src=\"https://wikimedia.org/api/rest_v1/media/math/render/svg/4885fc71da8be5094bf42dd592882a4deb94ff90\">\n",
        "\n",
        "\n",
        "\n",
        "Ya que el tensor es el tipo general , los objetos con los que comunmente hemos trabajado como vectores y matrices deben ser un caso específico de tensores, por lo tanto podemos pensar que un tensor es: **una generalización de vectores y matrices que podemos conceptualizar o entender como una arreglo multidimensional**\n",
        "\n",
        "Si todos estos son tensores, debe haber una propiedad de los tensores que los distinga, esta propiedad es llamada **rango del tensor** y se define como el número de indices o coordenadas necesarias para referenciar a un elemento del tensor así tenemos:\n",
        "\n",
        "* Escalar: tensor de rango 0\n",
        "* Vector: tensores de rango 1\n",
        "\n",
        "Ilustración 1:\n",
        "\n",
        "<img src=\"https://cdn-images-1.medium.com/max/1600/1*pUr-9ctuGamgjSwoW_KU-A.png\">\n",
        "\n",
        "Ilustración 2:\n",
        "\n",
        "<img src=\"https://cdn-images-1.medium.com/max/2000/1*_D5ZvufDS38WkhK9rK32hQ.jpeg\">\n",
        "\n",
        "\n",
        "Podemos pensar en 2 representaciones básicas de un vector:\n",
        "* Gráfica: representando un punto en el espacio\n",
        "* Lista de números : representando las coordenadas ,o compoenentes de el punto en el espacio correspondiente.\n",
        "\n",
        "<img src=\"https://raw.githubusercontent.com/llealgt/Galileo_Python_DS/main/NumPy_algebra_lineal/3d_vec.png\">\n",
        "\n",
        "En DS nos interesa mayormente la segunda representación,pero en algunos casos resulta útil utilizar la primera para poder visualizar patrones en datos que estemos analizando.\n",
        "\n",
        "<img src=\"https://raw.githubusercontent.com/llealgt/Galileo_Python_DS/main/NumPy_algebra_lineal/patron_eliptico.png\">\n",
        "\n",
        "**Nota**:Algunas operaciones no estan definidas matemáticamente  , pero NumPy las provee ya que resultan útiles en programación aún si no existen en matemática, por ejemplo: \n",
        "* Sumar un escalar a un vector.\n",
        "* Multiplicar 2 vectores elemento por elemento."
      ]
    },
    {
      "cell_type": "markdown",
      "metadata": {
        "id": "MyrjOr__axsX"
      },
      "source": [
        "### Rango y dimensión \n",
        "\n",
        "Como dijimos , ya que vectores y matrices son Tensores, necesitamos una característica que los distinga, esto es matemáticamente el **rango** del Tensor , en el mundo de NumPy obtenemos esto al usar la característica **ndim** sobre un Tensor dado.\n",
        "\n",
        "Si pensamos en la representación gráfica podemos pensar que el rango nos indica cuantos \"ejes\" posee el espacio sobre el que se define el tensor ,y necesitamos un número por cada eje para especificar cierto vector,  desde la perspectiva de la colección de números esto nos indica cuantos indices necesitamos para especificar o acceder cierto punto.\n",
        "\n",
        "La dimensión o forma del tensor nos indica cuantos elementos este puede almacenar distribuidas en cada uno de sus \"ejes\".\n",
        "\n",
        "Para vectores, el rango  es 1 , y la dimensión es cuantos elementos el vector posee. \n",
        "\n",
        "Resumen\n",
        "* ndim = entero indicando el rango de un tensor(cuantos ejes posee)\n",
        "* shape = tupla indicando la forma(cuantos elementos posee el tensor en cada uno de sus ejes )"
      ]
    },
    {
      "cell_type": "code",
      "metadata": {
        "colab": {
          "base_uri": "https://localhost:8080/"
        },
        "id": "KeyMzjhVaxsY",
        "outputId": "03c02d99-bdd1-4166-a56d-3f0aaee2dee9"
      },
      "source": [
        "x = np.array([1,2,3,4,5,6])\n",
        "\n",
        "print(x.ndim)\n",
        "print(x.shape)\n",
        "print(len(x.shape)) #forma de obtener el rango del tensor a partir de su dimension"
      ],
      "execution_count": 9,
      "outputs": [
        {
          "output_type": "stream",
          "name": "stdout",
          "text": [
            "1\n",
            "(6,)\n",
            "1\n"
          ]
        }
      ]
    },
    {
      "cell_type": "markdown",
      "metadata": {
        "id": "sCEjIu0Kaxsb"
      },
      "source": [
        "Por el momento estamos interesados en vectores, pero vale la pena ver como ndim y shape varían para una matriz."
      ]
    },
    {
      "cell_type": "code",
      "metadata": {
        "colab": {
          "base_uri": "https://localhost:8080/"
        },
        "id": "uvTDmcw-axsc",
        "outputId": "189c2689-a2e1-4195-e382-bf9a5a155154"
      },
      "source": [
        "x = np.array([[1,2,3],\n",
        "              [4,5,6]])\n",
        "\n",
        "print(x.ndim)\n",
        "print(x.shape)\n",
        "print(len(x.shape))  #forma de obtener el rango del tensor a partir de su dimension"
      ],
      "execution_count": 10,
      "outputs": [
        {
          "output_type": "stream",
          "name": "stdout",
          "text": [
            "2\n",
            "(2, 3)\n",
            "2\n"
          ]
        }
      ]
    },
    {
      "cell_type": "markdown",
      "metadata": {
        "id": "xD8Vj3ECaxsd"
      },
      "source": [
        "Tanto ndim como shape pueden ser usadas en cualquier expresión valida, por ejemplo asignarlas a variables "
      ]
    },
    {
      "cell_type": "code",
      "metadata": {
        "colab": {
          "base_uri": "https://localhost:8080/"
        },
        "id": "2n7AZvVPaxse",
        "outputId": "d4be1919-5141-4361-ed8c-98d4254eb829"
      },
      "source": [
        "forma_x = x.shape\n",
        "\n",
        "print(\"Filas de x:\",forma_x[0])\n",
        "print(\"Columnas de x:\",forma_x[1])"
      ],
      "execution_count": 11,
      "outputs": [
        {
          "output_type": "stream",
          "name": "stdout",
          "text": [
            "Filas de x: 2\n",
            "Columnas de x: 3\n"
          ]
        }
      ]
    },
    {
      "cell_type": "markdown",
      "metadata": {
        "id": "3DHU14Znaxsf"
      },
      "source": [
        "### Constructores de vectores\n",
        "\n",
        "NumPy provee diversas formas para crear o construir vectores, por ejemplo:\n",
        "* np.linspace\n",
        "* np.array\n",
        "* np.arange\n",
        "* np.zeros\n",
        "* np.ones\n",
        "\n",
        "Existen otras pero estas son posiblemente las mas comunes. Puedes consultar las otras disponibles en: https://docs.scipy.org/doc/numpy/reference/routines.array-creation.html"
      ]
    },
    {
      "cell_type": "code",
      "metadata": {
        "colab": {
          "base_uri": "https://localhost:8080/"
        },
        "id": "YLLOwO1qaxsg",
        "outputId": "5ffe99e7-130f-4650-9bc2-c40180dc8463"
      },
      "source": [
        "x = np.linspace(0,5,50,endpoint=True,retstep=False)\n",
        "\n",
        "x"
      ],
      "execution_count": 12,
      "outputs": [
        {
          "output_type": "execute_result",
          "data": {
            "text/plain": [
              "array([0.        , 0.10204082, 0.20408163, 0.30612245, 0.40816327,\n",
              "       0.51020408, 0.6122449 , 0.71428571, 0.81632653, 0.91836735,\n",
              "       1.02040816, 1.12244898, 1.2244898 , 1.32653061, 1.42857143,\n",
              "       1.53061224, 1.63265306, 1.73469388, 1.83673469, 1.93877551,\n",
              "       2.04081633, 2.14285714, 2.24489796, 2.34693878, 2.44897959,\n",
              "       2.55102041, 2.65306122, 2.75510204, 2.85714286, 2.95918367,\n",
              "       3.06122449, 3.16326531, 3.26530612, 3.36734694, 3.46938776,\n",
              "       3.57142857, 3.67346939, 3.7755102 , 3.87755102, 3.97959184,\n",
              "       4.08163265, 4.18367347, 4.28571429, 4.3877551 , 4.48979592,\n",
              "       4.59183673, 4.69387755, 4.79591837, 4.89795918, 5.        ])"
            ]
          },
          "metadata": {},
          "execution_count": 12
        }
      ]
    },
    {
      "cell_type": "code",
      "metadata": {
        "colab": {
          "base_uri": "https://localhost:8080/"
        },
        "id": "Ni_Pq3h5axsh",
        "outputId": "f2751dec-3c88-4e7d-ed67-164c7da6d0be"
      },
      "source": [
        "x = np.linspace(0,5,50,False,retstep=False)\n",
        "\n",
        "x"
      ],
      "execution_count": 13,
      "outputs": [
        {
          "output_type": "execute_result",
          "data": {
            "text/plain": [
              "array([0. , 0.1, 0.2, 0.3, 0.4, 0.5, 0.6, 0.7, 0.8, 0.9, 1. , 1.1, 1.2,\n",
              "       1.3, 1.4, 1.5, 1.6, 1.7, 1.8, 1.9, 2. , 2.1, 2.2, 2.3, 2.4, 2.5,\n",
              "       2.6, 2.7, 2.8, 2.9, 3. , 3.1, 3.2, 3.3, 3.4, 3.5, 3.6, 3.7, 3.8,\n",
              "       3.9, 4. , 4.1, 4.2, 4.3, 4.4, 4.5, 4.6, 4.7, 4.8, 4.9])"
            ]
          },
          "metadata": {},
          "execution_count": 13
        }
      ]
    },
    {
      "cell_type": "code",
      "metadata": {
        "colab": {
          "base_uri": "https://localhost:8080/"
        },
        "id": "eDCHx4Dtaxsi",
        "outputId": "ffe6dae1-a765-49ee-da31-e15e346a4bca"
      },
      "source": [
        "xc,dx = np.linspace(0,5,50,endpoint=True,retstep=True)\n",
        "\n",
        "print(xc,dx)\n",
        "print(xc.shape)\n",
        "print(xc.ndim)"
      ],
      "execution_count": 14,
      "outputs": [
        {
          "output_type": "stream",
          "name": "stdout",
          "text": [
            "[0.         0.10204082 0.20408163 0.30612245 0.40816327 0.51020408\n",
            " 0.6122449  0.71428571 0.81632653 0.91836735 1.02040816 1.12244898\n",
            " 1.2244898  1.32653061 1.42857143 1.53061224 1.63265306 1.73469388\n",
            " 1.83673469 1.93877551 2.04081633 2.14285714 2.24489796 2.34693878\n",
            " 2.44897959 2.55102041 2.65306122 2.75510204 2.85714286 2.95918367\n",
            " 3.06122449 3.16326531 3.26530612 3.36734694 3.46938776 3.57142857\n",
            " 3.67346939 3.7755102  3.87755102 3.97959184 4.08163265 4.18367347\n",
            " 4.28571429 4.3877551  4.48979592 4.59183673 4.69387755 4.79591837\n",
            " 4.89795918 5.        ] 0.10204081632653061\n",
            "(50,)\n",
            "1\n"
          ]
        }
      ]
    },
    {
      "cell_type": "code",
      "metadata": {
        "colab": {
          "base_uri": "https://localhost:8080/"
        },
        "id": "yLquVN5Daxsk",
        "outputId": "bc300118-e225-4629-dac3-e929aa8c176f"
      },
      "source": [
        "x = np.linspace(0,5,5,True)\n",
        "\n",
        "x"
      ],
      "execution_count": 15,
      "outputs": [
        {
          "output_type": "execute_result",
          "data": {
            "text/plain": [
              "array([0.  , 1.25, 2.5 , 3.75, 5.  ])"
            ]
          },
          "metadata": {},
          "execution_count": 15
        }
      ]
    },
    {
      "cell_type": "code",
      "metadata": {
        "colab": {
          "base_uri": "https://localhost:8080/",
          "height": 265
        },
        "id": "Ozn0bwT3Howi",
        "outputId": "93ddc72d-bbc9-4463-cc9c-e6ae92b06400"
      },
      "source": [
        "import matplotlib.pyplot as plt\n",
        "\n",
        "x = np.linspace(0,100,100)\n",
        "y = np.square(x)\n",
        "\n",
        "plt.plot(x,y)\n",
        "plt.show()"
      ],
      "execution_count": 16,
      "outputs": [
        {
          "output_type": "display_data",
          "data": {
            "text/plain": [
              "<Figure size 432x288 with 1 Axes>"
            ],
            "image/png": "[encoded data removed]"
          },
          "metadata": {
            "needs_background": "light"
          }
        }
      ]
    },
    {
      "cell_type": "markdown",
      "metadata": {
        "id": "-h22TCegaxsl"
      },
      "source": [
        "**np.arange**\n",
        "Esta función es parecida a la función **range** que vimos en ciclos, pero genera un vector de NumPy que puede ser utilizdo en otras expresiones o ser asignado a variables para posterior uso.\n",
        "\n",
        "\n",
        "arange(start=0,stop,step = 1,dtype=None) \n",
        "\n",
        "Intenta determinar el tipo de datos a partir de los parametros pero se puede sobreescribir si lo especificamos con dtype"
      ]
    },
    {
      "cell_type": "code",
      "metadata": {
        "colab": {
          "base_uri": "https://localhost:8080/"
        },
        "id": "DKibpfubaxsm",
        "outputId": "3fa328c4-2044-441e-9e5d-f9c7b0fd4e1b"
      },
      "source": [
        "yo = np.arange(1,10)\n",
        "yoc = np.arange(2,10,dtype = float)\n",
        "\n",
        "yo,yoc"
      ],
      "execution_count": 17,
      "outputs": [
        {
          "output_type": "execute_result",
          "data": {
            "text/plain": [
              "(array([1, 2, 3, 4, 5, 6, 7, 8, 9]), array([2., 3., 4., 5., 6., 7., 8., 9.]))"
            ]
          },
          "metadata": {},
          "execution_count": 17
        }
      ]
    },
    {
      "cell_type": "markdown",
      "metadata": {
        "id": "qMJYHKXgaxsp"
      },
      "source": [
        "En muchos casos es útil crear vectores inicializados con 0s o 1s ,o bien cuando no nos importa su valor inicial podemos especificar que sean creados  como vácios.\n",
        "\n",
        "Esto lo logramos con:\n",
        "* np.zeros\n",
        "* np.ones\n",
        "* np.empty"
      ]
    },
    {
      "cell_type": "code",
      "metadata": {
        "colab": {
          "base_uri": "https://localhost:8080/"
        },
        "id": "4bJnYejKaxsq",
        "outputId": "c5b4addc-be35-4f06-b950-56c54b6532f9"
      },
      "source": [
        "np.array([0,0,0,0,0])"
      ],
      "execution_count": 18,
      "outputs": [
        {
          "output_type": "execute_result",
          "data": {
            "text/plain": [
              "array([0, 0, 0, 0, 0])"
            ]
          },
          "metadata": {},
          "execution_count": 18
        }
      ]
    },
    {
      "cell_type": "code",
      "metadata": {
        "colab": {
          "base_uri": "https://localhost:8080/"
        },
        "id": "osqRN6jnaxsr",
        "outputId": "faa10e50-5f9b-4f79-a892-d7f811b84192"
      },
      "source": [
        "np.zeros(5) # proyecto"
      ],
      "execution_count": 19,
      "outputs": [
        {
          "output_type": "execute_result",
          "data": {
            "text/plain": [
              "array([0., 0., 0., 0., 0.])"
            ]
          },
          "metadata": {},
          "execution_count": 19
        }
      ]
    },
    {
      "cell_type": "code",
      "metadata": {
        "colab": {
          "base_uri": "https://localhost:8080/"
        },
        "id": "wR_k8Vu_axst",
        "outputId": "d960ed86-bcd6-49db-cbb2-b4dd2cea5e82"
      },
      "source": [
        "np.ones(5)"
      ],
      "execution_count": 20,
      "outputs": [
        {
          "output_type": "execute_result",
          "data": {
            "text/plain": [
              "array([1., 1., 1., 1., 1.])"
            ]
          },
          "metadata": {},
          "execution_count": 20
        }
      ]
    },
    {
      "cell_type": "code",
      "metadata": {
        "colab": {
          "base_uri": "https://localhost:8080/"
        },
        "id": "taujSBaTaxsv",
        "outputId": "17cfb555-0b47-474d-a052-c32406c0d03a"
      },
      "source": [
        "np.empty(4)  # el valor varia, experimentemos cambiando el tipo con ndtype = <tipo>"
      ],
      "execution_count": 21,
      "outputs": [
        {
          "output_type": "execute_result",
          "data": {
            "text/plain": [
              "array([ 54.  ,  36.  , 388.8 , 253.44])"
            ]
          },
          "metadata": {},
          "execution_count": 21
        }
      ]
    },
    {
      "cell_type": "markdown",
      "metadata": {
        "id": "zPiWm8vlaxsw"
      },
      "source": [
        "**Vectores a partir de datos existentes**\n",
        "Podemos también construir vectores  a partir de datos existentes(por ejempro listas de números, u otros vectores)  o bien especificar explicitamente con que valores queremos que un vector sea creado.\n",
        "\n",
        "Esto lo logramos basicamente con 2 funciones(nuevamente existen otras a explorar):\n",
        "\n",
        "* np.array\n",
        "* np.copy"
      ]
    },
    {
      "cell_type": "code",
      "metadata": {
        "colab": {
          "base_uri": "https://localhost:8080/"
        },
        "id": "E8HIEKTEaxsy",
        "outputId": "a8a1c336-b6af-4b92-806d-376563d63612"
      },
      "source": [
        "lista = [2,3,4.0]\n",
        "\n",
        "x = np.array(lista)\n",
        "\n",
        "x "
      ],
      "execution_count": 22,
      "outputs": [
        {
          "output_type": "execute_result",
          "data": {
            "text/plain": [
              "array([2., 3., 4.])"
            ]
          },
          "metadata": {},
          "execution_count": 22
        }
      ]
    },
    {
      "cell_type": "code",
      "metadata": {
        "colab": {
          "base_uri": "https://localhost:8080/",
          "height": 269
        },
        "id": "OsFpGWb7axsz",
        "outputId": "d758f21a-f370-49ce-9852-4bc31bf12b18"
      },
      "source": [
        "import matplotlib.pyplot as plt\n",
        "\n",
        "a = np.array([1,2])\n",
        "\n",
        "plt.arrow(0,0,a[0],a[1],head_width=0.1,head_length=0.1)\n",
        "plt.xlim(-1,1.5)\n",
        "plt.ylim(-2,2.5)\n",
        "plt.show()"
      ],
      "execution_count": 23,
      "outputs": [
        {
          "output_type": "display_data",
          "data": {
            "text/plain": [
              "<Figure size 432x288 with 1 Axes>"
            ],
            "image/png": "[encoded data removed]"
          },
          "metadata": {
            "needs_background": "light"
          }
        }
      ]
    },
    {
      "cell_type": "code",
      "metadata": {
        "colab": {
          "base_uri": "https://localhost:8080/"
        },
        "id": "1I5NW12xaxs1",
        "outputId": "8649b666-9fbb-4e99-ef81-f15d078c0d8e"
      },
      "source": [
        "vector = np.array([1,2,3,4,5,6,7,8,9])\n",
        "\n",
        "print(vector)"
      ],
      "execution_count": 24,
      "outputs": [
        {
          "output_type": "stream",
          "name": "stdout",
          "text": [
            "[1 2 3 4 5 6 7 8 9]\n"
          ]
        }
      ]
    },
    {
      "cell_type": "code",
      "metadata": {
        "colab": {
          "base_uri": "https://localhost:8080/"
        },
        "id": "aGcm0b8maxs2",
        "outputId": "f31e861a-fd3c-4650-e438-1dc0f4930c3e"
      },
      "source": [
        "nuevo_vector = vector.copy()\n",
        "\n",
        "print(nuevo_vector)"
      ],
      "execution_count": 25,
      "outputs": [
        {
          "output_type": "stream",
          "name": "stdout",
          "text": [
            "[1 2 3 4 5 6 7 8 9]\n"
          ]
        }
      ]
    },
    {
      "cell_type": "markdown",
      "metadata": {
        "id": "BfkYaqX8axs3"
      },
      "source": [
        "El siguiente ejemplo crea una copia de un vector m cambiando(truncando) su tipo de dato a entero."
      ]
    },
    {
      "cell_type": "code",
      "metadata": {
        "colab": {
          "base_uri": "https://localhost:8080/"
        },
        "id": "4EdaxodJaxs3",
        "outputId": "bbaaa56d-d683-4f30-a9ab-459332fbe8c0"
      },
      "source": [
        "m = np.linspace(9,1,11)\n",
        "\n",
        "m_int = np.array(m,dtype = int)\n",
        "\n",
        "m,m_int"
      ],
      "execution_count": 26,
      "outputs": [
        {
          "output_type": "execute_result",
          "data": {
            "text/plain": [
              "(array([9. , 8.2, 7.4, 6.6, 5.8, 5. , 4.2, 3.4, 2.6, 1.8, 1. ]),\n",
              " array([9, 8, 7, 6, 5, 5, 4, 3, 2, 1, 1]))"
            ]
          },
          "metadata": {},
          "execution_count": 26
        }
      ]
    },
    {
      "cell_type": "markdown",
      "metadata": {
        "id": "Br3mpFDvaxs4"
      },
      "source": [
        "**Construir vector como otro vector**\n",
        "\n",
        "Existen algunas funiones que nos permiten crear vectores \"como\" otros vectores,es decir de la misma forma pero con posibles diferentes valores:\n"
      ]
    },
    {
      "cell_type": "code",
      "metadata": {
        "colab": {
          "base_uri": "https://localhost:8080/"
        },
        "id": "3Gcs4vZFaxs5",
        "outputId": "a1122042-99a3-4555-9a62-1d34d0913e52"
      },
      "source": [
        "x = np.linspace(1,3,5)\n",
        "\n",
        "ceros = np.zeros_like(x,dtype=int)\n",
        "unos = np.ones_like(x)\n",
        "vacio = np.empty_like(x)\n",
        "\n",
        "print(x)\n",
        "print(ceros)\n",
        "print(unos)\n",
        "print(vacio)"
      ],
      "execution_count": 27,
      "outputs": [
        {
          "output_type": "stream",
          "name": "stdout",
          "text": [
            "[1.  1.5 2.  2.5 3. ]\n",
            "[0 0 0 0 0]\n",
            "[1. 1. 1. 1. 1.]\n",
            "[4.63976247e-310 4.50128357e-312 1.14635805e-304 1.49166932e-154\n",
            " 1.62186938e+173]\n"
          ]
        }
      ]
    },
    {
      "cell_type": "markdown",
      "metadata": {
        "id": "0Q3QuONOaxs6"
      },
      "source": [
        "En otros casos algunas funciones tambien devuelven un array  A de la misma forma de otro B pero con el resultado de aplicar alguna función a este, por ejemplo, el siguiente caso devuelve un nuevo vector con la forma de un vector \"x\" resultado de calcular el seno trigonoḿetrico sobre cada uno de sus elementos.:"
      ]
    },
    {
      "cell_type": "code",
      "metadata": {
        "colab": {
          "base_uri": "https://localhost:8080/"
        },
        "id": "B-MAu-j6axs7",
        "outputId": "09b4910d-0592-46fd-e9c7-0ee0a1dd91a8"
      },
      "source": [
        "np.sin(x) #operacion vectorizada\n"
      ],
      "execution_count": 28,
      "outputs": [
        {
          "output_type": "execute_result",
          "data": {
            "text/plain": [
              "array([0.84147098, 0.99749499, 0.90929743, 0.59847214, 0.14112001])"
            ]
          },
          "metadata": {},
          "execution_count": 28
        }
      ]
    },
    {
      "cell_type": "code",
      "metadata": {
        "id": "C00OL4qnoiAM",
        "colab": {
          "base_uri": "https://localhost:8080/"
        },
        "outputId": "cde93fa3-4fdc-41d3-b355-4321de13194c"
      },
      "source": [
        "\n",
        "for elemento in x:\n",
        "  print(np.sin(elemento))"
      ],
      "execution_count": 29,
      "outputs": [
        {
          "output_type": "stream",
          "name": "stdout",
          "text": [
            "0.8414709848078965\n",
            "0.9974949866040544\n",
            "0.9092974268256817\n",
            "0.5984721441039565\n",
            "0.1411200080598672\n"
          ]
        }
      ]
    },
    {
      "cell_type": "markdown",
      "metadata": {
        "id": "bNZTwbUOaxs7"
      },
      "source": [
        "Similar a la concatenación de listas (con +) podemos  concatenar 2 vectores y crear uno nuevo usando np.hstack((tupla))"
      ]
    },
    {
      "cell_type": "code",
      "metadata": {
        "id": "xFGnitsVaxs8"
      },
      "source": [
        "?np.hstack"
      ],
      "execution_count": 30,
      "outputs": []
    },
    {
      "cell_type": "code",
      "metadata": {
        "colab": {
          "base_uri": "https://localhost:8080/"
        },
        "id": "G1BYVDGMaxs8",
        "outputId": "d8ebc404-f39d-42ed-df0a-0dd818cff013"
      },
      "source": [
        "a = np.array((1,2,3))\n",
        "b = np.array((2,3,4))\n",
        "np.hstack((a,b))"
      ],
      "execution_count": 31,
      "outputs": [
        {
          "output_type": "execute_result",
          "data": {
            "text/plain": [
              "array([1, 2, 3, 2, 3, 4])"
            ]
          },
          "metadata": {},
          "execution_count": 31
        }
      ]
    },
    {
      "cell_type": "markdown",
      "metadata": {
        "id": "mFfPnIFZaxs9"
      },
      "source": [
        "**ejercicio** : en data science y programación científica es común necesitar vectores con valores dentro de cierto intervalo, pero con sub-intervalos internos con diference espaciamiento ,por ejemplo:\n",
        "\n",
        "[0.  , 0.1 , 0.2 , 0.3 , 0.4 , 0.5 , 0.51, 0.52, 0.53, 0.54, 0.55,\n",
        "       0.56, 0.57, 0.58, 0.59, 0.6 , 0.7 , 0.8 , 0.9 , 1.  ]\n",
        "       \n",
        "El primer sub-intervalo incrementa de 0.1 en 0.1 , el segundo de 0.01 en 0.01 , y el tercero de 0.1 en 0.1 nuevamente.\n",
        "\n",
        "Usando unicamente NumPy crea un vector de este tipo con el nombre xs .\n",
        "\n",
        "**nota**: no es permitido usar ciclos, debe realizarse con operaciones \"vectorizadas\" de numpy"
      ]
    },
    {
      "cell_type": "code",
      "metadata": {
        "id": "8xn0P1UDaxs-",
        "colab": {
          "base_uri": "https://localhost:8080/"
        },
        "outputId": "d9717613-6155-4f90-b08e-9e81f83322c9"
      },
      "source": [
        "# tu codigo aqui (~ 5 lineas de codigo):\n",
        "a=np.arange(0.1,0.6,0.1,dtype=float)\n",
        "b=np.arange(0.51,0.6,0.01,dtype=float)\n",
        "c=np.arange(0.6,1.01,0.1,dtype=float)\n",
        "np.hstack((a,b,c))"
      ],
      "execution_count": 32,
      "outputs": [
        {
          "output_type": "execute_result",
          "data": {
            "text/plain": [
              "array([0.1 , 0.2 , 0.3 , 0.4 , 0.5 , 0.51, 0.52, 0.53, 0.54, 0.55, 0.56,\n",
              "       0.57, 0.58, 0.59, 0.6 , 0.7 , 0.8 , 0.9 , 1.  ])"
            ]
          },
          "metadata": {},
          "execution_count": 32
        }
      ]
    },
    {
      "cell_type": "markdown",
      "metadata": {
        "id": "dpTxVAeOaxs-"
      },
      "source": [
        "### Operaciones y Aritmetica Vectorial\n",
        "\n",
        "Utiliza los operadores aritmeticos ya conocidos +,-,*,/, %\n",
        "\n",
        "Las operaciones vectoriales básicas son:\n",
        "* Sumar 2 vectores.\n",
        "<img src=\"https://raw.githubusercontent.com/llealgt/Galileo_Python_DS/main/NumPy_algebra_lineal/suma_vec.png\">\n",
        "* Multiplicar 1 vector por un número: el efecto de esto es cambiar el tamaño del vector, es decir \"escalarlo\" y por eso en algebra lineal llamamos a un único número : **escalar**. El **span**,alcance o extención de un vector es el conjunto de todos los posibles vectores obtenidos por multiplicación escalar sobre este vector.\n",
        "<img src=\"https://raw.githubusercontent.com/llealgt/Galileo_Python_DS/main/NumPy_algebra_lineal/mult_vec.png\">\n",
        "\n",
        "<img src=\"https://raw.githubusercontent.com/llealgt/Galileo_Python_DS/main/NumPy_algebra_lineal/adicion_mult_escalar.png\">\n",
        "\n",
        "**Nota**:Algunas operaciones no estan definidas matemáticamente  , pero NumPy las provee ya que resultan útiles en programación aún si no existen en matemática, por ejemplo: \n",
        "\n",
        "* Multiplicar 2 vectores entre si\n",
        "* Sumar 1 vector con un escalar"
      ]
    },
    {
      "cell_type": "code",
      "metadata": {
        "colab": {
          "base_uri": "https://localhost:8080/"
        },
        "id": "XeSWw9ycaxs_",
        "outputId": "5eeffc81-1dcf-4141-cda2-be465cb91a6a"
      },
      "source": [
        "v = np.array([3,-5])\n",
        "w = np.array([2,1])\n",
        "\n",
        "c = v + w\n",
        "\n",
        "print(c)"
      ],
      "execution_count": 33,
      "outputs": [
        {
          "output_type": "stream",
          "name": "stdout",
          "text": [
            "[ 5 -4]\n"
          ]
        }
      ]
    },
    {
      "cell_type": "code",
      "metadata": {
        "colab": {
          "base_uri": "https://localhost:8080/"
        },
        "id": "VQi5vsa6axtA",
        "outputId": "70fef679-0ef3-4274-a2f2-02bc1c0d4f05"
      },
      "source": [
        "2*v"
      ],
      "execution_count": 34,
      "outputs": [
        {
          "output_type": "execute_result",
          "data": {
            "text/plain": [
              "array([  6, -10])"
            ]
          },
          "metadata": {},
          "execution_count": 34
        }
      ]
    },
    {
      "cell_type": "markdown",
      "metadata": {
        "id": "Peaf_0FqaxtC"
      },
      "source": [
        "Esta operacion no esta definida en linalg"
      ]
    },
    {
      "cell_type": "code",
      "metadata": {
        "id": "InN78WNAaxtD",
        "colab": {
          "base_uri": "https://localhost:8080/"
        },
        "outputId": "66d9b1d5-91fc-4a4e-8f97-15eee22633e4"
      },
      "source": [
        "np.array([2,2])*v #producto haddamard (elemento a elemento)"
      ],
      "execution_count": 35,
      "outputs": [
        {
          "output_type": "execute_result",
          "data": {
            "text/plain": [
              "array([  6, -10])"
            ]
          },
          "metadata": {},
          "execution_count": 35
        }
      ]
    },
    {
      "cell_type": "code",
      "metadata": {
        "colab": {
          "base_uri": "https://localhost:8080/"
        },
        "id": "pPxonoQQaxtF",
        "outputId": "8fdc2b46-7828-4051-9dbc-6f54be7f2e12"
      },
      "source": [
        "dos = np.array([2,2])\n",
        "dos*v"
      ],
      "execution_count": 36,
      "outputs": [
        {
          "output_type": "execute_result",
          "data": {
            "text/plain": [
              "array([  6, -10])"
            ]
          },
          "metadata": {},
          "execution_count": 36
        }
      ]
    },
    {
      "cell_type": "code",
      "metadata": {
        "colab": {
          "base_uri": "https://localhost:8080/"
        },
        "id": "ip1QKnMMvFz3",
        "outputId": "75d40c86-afe2-4f04-a905-bd54e727aab9"
      },
      "source": [
        "print(v)\n",
        "print(w)"
      ],
      "execution_count": 37,
      "outputs": [
        {
          "output_type": "stream",
          "name": "stdout",
          "text": [
            "[ 3 -5]\n",
            "[2 1]\n"
          ]
        }
      ]
    },
    {
      "cell_type": "code",
      "metadata": {
        "colab": {
          "base_uri": "https://localhost:8080/"
        },
        "id": "yta6irxhaxtG",
        "outputId": "b0d0a34a-9162-4e8c-f58d-fa06ddeb05a8"
      },
      "source": [
        "resta = v - w #\n",
        "multiplicacion = v*w\n",
        "division = v/w\n",
        "div_mod = v%w\n",
        "\n",
        "print(resta)\n",
        "print(multiplicacion)\n",
        "print(division)\n",
        "print(div_mod)"
      ],
      "execution_count": 38,
      "outputs": [
        {
          "output_type": "stream",
          "name": "stdout",
          "text": [
            "[ 1 -6]\n",
            "[ 6 -5]\n",
            "[ 1.5 -5. ]\n",
            "[1 0]\n"
          ]
        }
      ]
    },
    {
      "cell_type": "markdown",
      "metadata": {
        "id": "sP-DvNV4axtH"
      },
      "source": [
        "Los operadores +=,-=,*=,/=,%=  , también son validos en vectores con NumPy y son mas eficientes, por ejemplo:\n",
        "\n",
        "a+=b\n",
        "\n",
        "Es mas eficiente que\n",
        "\n",
        "a = a + b\n",
        "\n",
        "Por lo tanto se recomienda usarlos siempre que sea posible :"
      ]
    },
    {
      "cell_type": "code",
      "metadata": {
        "id": "MCcRKwdiaxtI"
      },
      "source": [
        "a = np.array((1,2,3))\n",
        "b = np.array((2,3,4))"
      ],
      "execution_count": 39,
      "outputs": []
    },
    {
      "cell_type": "code",
      "metadata": {
        "id": "7-C5265yaxtJ",
        "colab": {
          "base_uri": "https://localhost:8080/"
        },
        "outputId": "61a15253-d56e-4aff-c819-61d7108a9e91"
      },
      "source": [
        "a = a + b\n",
        "a"
      ],
      "execution_count": 40,
      "outputs": [
        {
          "output_type": "execute_result",
          "data": {
            "text/plain": [
              "array([3, 5, 7])"
            ]
          },
          "metadata": {},
          "execution_count": 40
        }
      ]
    },
    {
      "cell_type": "code",
      "metadata": {
        "colab": {
          "base_uri": "https://localhost:8080/"
        },
        "id": "w3zQrXv9axtK",
        "outputId": "0e1d148b-93f7-4f80-9f00-5eee75a9613f"
      },
      "source": [
        "a+=b\n",
        "a"
      ],
      "execution_count": 41,
      "outputs": [
        {
          "output_type": "execute_result",
          "data": {
            "text/plain": [
              "array([ 5,  8, 11])"
            ]
          },
          "metadata": {},
          "execution_count": 41
        }
      ]
    },
    {
      "cell_type": "markdown",
      "metadata": {
        "id": "GA-ARywAaxtL"
      },
      "source": [
        "Python utiliza un mecanismo conocido como **\"broadcasting\"** para algunas operaciones cuando el tamaño de los operandos no coincide, por ejemplo el caso de una suma entre un vector y un escalar, broadcasting \"expande\" el escalar para que tenga la misma forma que el vector (replicando el valor escalar) y luego aplica la operacion **\"elementwise\"** (elemento a elemento)"
      ]
    },
    {
      "cell_type": "code",
      "metadata": {
        "colab": {
          "base_uri": "https://localhost:8080/"
        },
        "id": "KIK0Vtx7yLhB",
        "outputId": "7890cddc-8f5c-45d7-f508-d7e7a5fbbed0"
      },
      "source": [
        "print(a)"
      ],
      "execution_count": 42,
      "outputs": [
        {
          "output_type": "stream",
          "name": "stdout",
          "text": [
            "[ 5  8 11]\n"
          ]
        }
      ]
    },
    {
      "cell_type": "code",
      "metadata": {
        "colab": {
          "base_uri": "https://localhost:8080/"
        },
        "id": "dBidLRgzaxtM",
        "outputId": "9b4b52af-c868-44b0-8fba-72e08727e3b1"
      },
      "source": [
        "a + 2 #operación no definida matemáticamente pero posible con broadcasting"
      ],
      "execution_count": 43,
      "outputs": [
        {
          "output_type": "execute_result",
          "data": {
            "text/plain": [
              "array([ 7, 10, 13])"
            ]
          },
          "metadata": {},
          "execution_count": 43
        }
      ]
    },
    {
      "cell_type": "code",
      "metadata": {
        "colab": {
          "base_uri": "https://localhost:8080/"
        },
        "id": "UJZqqJQ9axtM",
        "outputId": "52d87a95-e843-42b4-c858-07035784ba03"
      },
      "source": [
        "a -5 #operación no definida matemáticamente pero posible con broadcasting "
      ],
      "execution_count": 44,
      "outputs": [
        {
          "output_type": "execute_result",
          "data": {
            "text/plain": [
              "array([0, 3, 6])"
            ]
          },
          "metadata": {},
          "execution_count": 44
        }
      ]
    },
    {
      "cell_type": "code",
      "metadata": {
        "colab": {
          "base_uri": "https://localhost:8080/"
        },
        "id": "3mI-kMJLaxtN",
        "outputId": "be0fa3c7-fe0e-4387-b85a-4cf36e6dcf1f"
      },
      "source": [
        "a * 3 # operación si definida matemáticamente esta \"escalando\" el vector en factor de 3"
      ],
      "execution_count": 45,
      "outputs": [
        {
          "output_type": "execute_result",
          "data": {
            "text/plain": [
              "array([15, 24, 33])"
            ]
          },
          "metadata": {},
          "execution_count": 45
        }
      ]
    },
    {
      "cell_type": "code",
      "metadata": {
        "colab": {
          "base_uri": "https://localhost:8080/"
        },
        "id": "w_1FWh11ymAA",
        "outputId": "ecc5b5fa-ad81-405c-cda8-4a2d18568510"
      },
      "source": [
        "a"
      ],
      "execution_count": 46,
      "outputs": [
        {
          "output_type": "execute_result",
          "data": {
            "text/plain": [
              "array([ 5,  8, 11])"
            ]
          },
          "metadata": {},
          "execution_count": 46
        }
      ]
    },
    {
      "cell_type": "code",
      "metadata": {
        "id": "1qZpeT9WaxtO",
        "colab": {
          "base_uri": "https://localhost:8080/"
        },
        "outputId": "9e45c475-b78c-4e20-d5ed-baebd3490e61"
      },
      "source": [
        "# operacion no definida directamente pero ya que la division se reduce \n",
        "#a un producto por una fraccion, si esta definida a traves del \"escalado\"  dl vector en factor de 0.33333\n",
        "a / 3 "
      ],
      "execution_count": 47,
      "outputs": [
        {
          "output_type": "execute_result",
          "data": {
            "text/plain": [
              "array([1.66666667, 2.66666667, 3.66666667])"
            ]
          },
          "metadata": {},
          "execution_count": 47
        }
      ]
    },
    {
      "cell_type": "markdown",
      "metadata": {
        "id": "tBhzMWwoaxtQ"
      },
      "source": [
        "**Ejemplo aplicado a DS** :  Suavizado de curvas a través de promedios de n-puntos(medias móviles):\n",
        "\n",
        "<img src=\"https://www.luisllamas.es/wp-content/uploads/2017/03/arduino-filtro-media-movil-ventana-5.png\">\n",
        "\n",
        "En el mundo la data comunmente posee \"ruido\" por lo cual muchas veces antes de hacer análisis o modelado se necesita \"suavizar\" las curvas para reducir este ruido, una técnica muy sencilla es  el suavizado por promedio de n-puntos(también llamado media móvil), esto significa que para cada punto Xn obtenemos una versión transformada(suavizada) que consiste en promediar n puntos cercanos a el, por ejemplo para n= 3 tenemos que:\n",
        "\n",
        "$$XS_{n}  =  \\frac{X_{n-1}+X_{n}+X_{n+1}}{3}$$"
      ]
    },
    {
      "cell_type": "code",
      "metadata": {
        "scrolled": true,
        "id": "IgL1CydiaxtR"
      },
      "source": [
        "# las siguientes 3 lineas generan un conjunto de datos que se comportan segun una onda senoidal pero tienen\n",
        "# ruido por lo cual vamos a suavizar usando promedio de 3 puntos\n",
        "# en este ejercicio los generamos manualmente pero pensemos que son datos que pudieron ser generados con algún\n",
        "# instrumento como un sensor, o bien estar almacenados en una base de datos\n",
        "sample_points = 10000\n",
        "inicio_intervalo = 0\n",
        "ruido = 0.5*np.random.randn(sample_points) #el ruido comunmente se debe a aleatoriedad o captura no exacta de info.\n",
        "x = np.linspace(inicio_intervalo,5*np.pi,sample_points) \n",
        "y = np.sin(x) + ruido\n",
        "\n",
        "#ys es \"y suavizado\", inicialmente es una copia de y\n",
        "ys =  y.copy()\n",
        "\n",
        "for n in range(1,len(y)-1): #5\n",
        "    ys[n] = (y[n-1] + y[n] + y[n+1])/3\n",
        "    \n",
        "#print(y)\n",
        "#print(ys)"
      ],
      "execution_count": 48,
      "outputs": []
    },
    {
      "cell_type": "code",
      "metadata": {
        "colab": {
          "base_uri": "https://localhost:8080/",
          "height": 0
        },
        "id": "DjIK7-d_axtS",
        "outputId": "3c0828d7-b928-4963-880a-e6050d6e2b51"
      },
      "source": [
        "plt.plot(x,y)\n",
        "plt.plot(x,ys)\n",
        "plt.xlim(inicio_intervalo,5*np.pi + 0.5)\n",
        "plt.show()"
      ],
      "execution_count": 49,
      "outputs": [
        {
          "output_type": "display_data",
          "data": {
            "text/plain": [
              "<Figure size 432x288 with 1 Axes>"
            ],
            "image/png": "[encoded data removed]"
          },
          "metadata": {
            "needs_background": "light"
          }
        }
      ]
    },
    {
      "cell_type": "markdown",
      "metadata": {
        "id": "OCVCXBFWaxtT"
      },
      "source": [
        "**Ejercicio (parte de tarea)** En este caso usamos un ciclo  para ejemplificar pero ya hemos mencionado que debemos evitarlos siempre que sea posible y usar operaciones \"vectorizadas\" ya que es mucho mas rápido al utilizar  código pre-compilado de C, en este ejercicio debemos remplazar el calculo de ys para hacerlo de manera \"vectorizada\" y eliminar el ciclo for. \n",
        "\n",
        "**tip**: usar slicing"
      ]
    },
    {
      "cell_type": "code",
      "source": [
        "import pandas as pd\n",
        "\n",
        "longitud_filtro=150\n",
        "media_movil=np.convolve(ys,np.ones((longitud_filtro)),mode=\"same\")\n",
        "media_movil /= longitud_filtro\n",
        "\n",
        "plt.plot(x,y)\n",
        "plt.plot(x,media_movil)\n",
        "plt.xlim(inicio_intervalo,5*np.pi + 0.5)\n",
        "plt.show()"
      ],
      "metadata": {
        "colab": {
          "base_uri": "https://localhost:8080/",
          "height": 0
        },
        "id": "wNw9CvxZOapu",
        "outputId": "558891c0-313d-422a-a37e-3565d96eabb3"
      },
      "execution_count": 50,
      "outputs": [
        {
          "output_type": "display_data",
          "data": {
            "text/plain": [
              "<Figure size 432x288 with 1 Axes>"
            ],
            "image/png": "[encoded data removed]"
          },
          "metadata": {
            "needs_background": "light"
          }
        }
      ]
    },
    {
      "cell_type": "markdown",
      "metadata": {
        "id": "IEhuGnCJaxtT"
      },
      "source": [
        "### Combinaciones lineales,span,vectores base,espacio vectorial e independencia lineal.\n",
        "\n",
        "**Nota**: esta sección es de cierto relevante a futuro  ya que no es tan importante para este curso,pero lo será para futuros cursos y en tu carrera, por ejemplo en machine learning y estadística la reducción de dimensionalidad PCA se basa en el contenido acá resumido.\n",
        "\n",
        "Derivado de las 2 operaciones básicas de algebra lineal que ya mencionamos: suma de 2 vectores y multiplicación de un escalar por un vector podemos hablar de **combinaciones lineales**\n",
        "\n",
        "* **Combinación lineal** : Una combinación lineal es una generalización que combina estas 2 operaciones básicas y la podemos definir como **la suma de 2 o mas vectores escalados** , \n",
        "\n",
        "<img src=\"https://raw.githubusercontent.com/llealgt/Galileo_Python_DS/main/NumPy_algebra_lineal/combinacion_base.png\">\n",
        "\n",
        "Combinación lineal\n",
        "\n",
        "<img src=\"https://raw.githubusercontent.com/llealgt/Galileo_Python_DS/main/NumPy_algebra_lineal/combinacion_lineal.png\">\n",
        "\n",
        "* El **span**(alceance, o extensión) de una combinacion lineal es el conjunto de todos los posibles vectores obtenidos para cada posible combinación de sus valores escalares.\n",
        "\n",
        "\n",
        "<img src=\"https://raw.githubusercontent.com/llealgt/Galileo_Python_DS/main/NumPy_algebra_lineal/span.png\">\n",
        "\n",
        "<img src=\"https://raw.githubusercontent.com/llealgt/Galileo_Python_DS/main/NumPy_algebra_lineal/3d_span.png\">\n",
        "\n",
        "* **Independencia Lineal** : si un vector A es un múltiplo de otro vector B, decimos que existe dependencia lineal entre ellos, geométricamente el efecto de esto es que el **span** de estos  es el mismo, o bien si se trata de combinaciones lineales, el agregar un vector dependientemente lineal significa que este puede ser obtenido como una combinación de los otros en la combinación ,esto no modifica el **span** de la combinación, por lo cual es redundante y no aporta nada.\n",
        "\n",
        "<img src=\"https://raw.githubusercontent.com/llealgt/Galileo_Python_DS/main/NumPy_algebra_lineal/dependencia_lineal.png\">\n",
        "\n",
        "<img src=\"https://raw.githubusercontent.com/llealgt/Galileo_Python_DS/main/NumPy_algebra_lineal/dependencia_lineal2.png\">\n",
        "\n",
        "**Referencia Util**:\n",
        "https://youtu.be/k7RM-ot2NWY?list=PLZHQObOWTQDPD3MizzM2xVFitgF8hE_ab"
      ]
    },
    {
      "cell_type": "markdown",
      "metadata": {
        "id": "mggBAMXWaxtU"
      },
      "source": [
        "### ufuncs(universal functions)\n",
        "\n",
        "Ufuncs son funciones que trabajan de manera general independiente de la dimension del objeto al que sean aplicadas, esto significa que la misma función puede ser utilizada sobre valores **escalares**  o sobre **tensores** de cualquier dimensión. , cuando es aplicada sobre tensores esta trabaja elemento por elemento soportando \"broadcasting\" .\n",
        "\n",
        "NumPy provee una gran colección de ufuncs comunes en ciencias y que serán muy útiles en data science, ya hemos usado algunas por ejemplo: **np.sin(tensor)** , muchas comunes y que te serán familares son:\n",
        "\n",
        "* np.sign: determinar el signo de un número\n",
        "* np.abs: valor absoluto de un número\n",
        "* np.cos: coseno de un angulo en radianes\n",
        "* np.sin : seno de un angulo en radianes\n",
        "* np.tan : tangente de un angulo en radianes\n",
        "* np.exp : función exponencial e** x\n",
        "* np.log: logaritmo natural\n",
        "* np.log10 : logaritmo base 10\n",
        "* np.log2 : logaritmo base 2\n",
        "* np.sqrt : raiz cuadrada\n",
        "* np.power : potenciacion\n",
        "\n",
        "Al trabajar una aplicación numérica/científica es recomendable tener a la mano la documentación de las funciones disponibles : https://docs.scipy.org/doc/numpy-1.15.1/reference/routines.math.html\n",
        "\n",
        "#### Nota: \n",
        "En algunos casos requeriremos crear nuestras propias funciones y es recomendable que se apeguen a las ufuncs, es decir que se puedan aplicar independiente de la dimensión del objeto al que se aplican, que soporten broadcasting y muy importante **que su definición evite ciclos y use operaciones vectorizadas y otras ufuncs** , esto será parte de los criterios de evaluación en tareas y exámenes en este curso."
      ]
    },
    {
      "cell_type": "code",
      "metadata": {
        "id": "TdLbj7_NaxtX",
        "colab": {
          "base_uri": "https://localhost:8080/"
        },
        "outputId": "6983fe73-696c-41a6-e19d-b1e1864493b7"
      },
      "source": [
        "x = np.array([-5.3,-1,0,1.5,10,100])\n",
        "\n",
        "print(np.sign(x))\n",
        "print(np.abs(x))\n",
        "print(np.cos(x))\n",
        "print(np.sin(x))\n",
        "print(np.tan(x))\n",
        "print(np.exp(x))\n",
        "print(len(x))"
      ],
      "execution_count": 51,
      "outputs": [
        {
          "output_type": "stream",
          "name": "stdout",
          "text": [
            "[-1. -1.  0.  1.  1.  1.]\n",
            "[  5.3   1.    0.    1.5  10.  100. ]\n",
            "[ 0.55437434  0.54030231  1.          0.0707372  -0.83907153  0.86231887]\n",
            "[ 0.83226744 -0.84147098  0.          0.99749499 -0.54402111 -0.50636564]\n",
            "[ 1.5012734  -1.55740772  0.         14.10141995  0.64836083 -0.58721392]\n",
            "[4.99159391e-03 3.67879441e-01 1.00000000e+00 4.48168907e+00\n",
            " 2.20264658e+04 2.68811714e+43]\n",
            "6\n"
          ]
        }
      ]
    },
    {
      "cell_type": "code",
      "metadata": {
        "id": "IhAOG5pKaxtY",
        "colab": {
          "base_uri": "https://localhost:8080/"
        },
        "outputId": "f2dc8d02-d41a-4134-c8c5-f296e65472d5"
      },
      "source": [
        "print(np.log(x))"
      ],
      "execution_count": 52,
      "outputs": [
        {
          "output_type": "stream",
          "name": "stdout",
          "text": [
            "[       nan        nan       -inf 0.40546511 2.30258509 4.60517019]\n"
          ]
        },
        {
          "output_type": "stream",
          "name": "stderr",
          "text": [
            "/usr/local/lib/python3.7/dist-packages/ipykernel_launcher.py:1: RuntimeWarning: divide by zero encountered in log\n",
            "  \"\"\"Entry point for launching an IPython kernel.\n",
            "/usr/local/lib/python3.7/dist-packages/ipykernel_launcher.py:1: RuntimeWarning: invalid value encountered in log\n",
            "  \"\"\"Entry point for launching an IPython kernel.\n"
          ]
        }
      ]
    },
    {
      "cell_type": "code",
      "metadata": {
        "id": "-nrqfeY6axta",
        "colab": {
          "base_uri": "https://localhost:8080/"
        },
        "outputId": "41d88da9-f845-4c7d-e8ec-33a2f35d0925"
      },
      "source": [
        "print(np.log10(x))\n"
      ],
      "execution_count": 53,
      "outputs": [
        {
          "output_type": "stream",
          "name": "stdout",
          "text": [
            "[       nan        nan       -inf 0.17609126 1.         2.        ]\n"
          ]
        },
        {
          "output_type": "stream",
          "name": "stderr",
          "text": [
            "/usr/local/lib/python3.7/dist-packages/ipykernel_launcher.py:1: RuntimeWarning: divide by zero encountered in log10\n",
            "  \"\"\"Entry point for launching an IPython kernel.\n",
            "/usr/local/lib/python3.7/dist-packages/ipykernel_launcher.py:1: RuntimeWarning: invalid value encountered in log10\n",
            "  \"\"\"Entry point for launching an IPython kernel.\n"
          ]
        }
      ]
    },
    {
      "cell_type": "code",
      "metadata": {
        "id": "EdLaZLzMaxtb",
        "colab": {
          "base_uri": "https://localhost:8080/"
        },
        "outputId": "9c25dcd7-2e11-4a45-9c01-39726854d896"
      },
      "source": [
        "print(np.log2(x))"
      ],
      "execution_count": 54,
      "outputs": [
        {
          "output_type": "stream",
          "name": "stdout",
          "text": [
            "[       nan        nan       -inf 0.5849625  3.32192809 6.64385619]\n"
          ]
        },
        {
          "output_type": "stream",
          "name": "stderr",
          "text": [
            "/usr/local/lib/python3.7/dist-packages/ipykernel_launcher.py:1: RuntimeWarning: divide by zero encountered in log2\n",
            "  \"\"\"Entry point for launching an IPython kernel.\n",
            "/usr/local/lib/python3.7/dist-packages/ipykernel_launcher.py:1: RuntimeWarning: invalid value encountered in log2\n",
            "  \"\"\"Entry point for launching an IPython kernel.\n"
          ]
        }
      ]
    },
    {
      "cell_type": "code",
      "metadata": {
        "id": "-P1Sbi2HBE0S",
        "colab": {
          "base_uri": "https://localhost:8080/"
        },
        "outputId": "85f1f12f-b0a6-4af7-b270-77917dc0eaa0"
      },
      "source": [
        "print(np.sqrt(x))"
      ],
      "execution_count": 55,
      "outputs": [
        {
          "output_type": "stream",
          "name": "stdout",
          "text": [
            "[        nan         nan  0.          1.22474487  3.16227766 10.        ]\n"
          ]
        },
        {
          "output_type": "stream",
          "name": "stderr",
          "text": [
            "/usr/local/lib/python3.7/dist-packages/ipykernel_launcher.py:1: RuntimeWarning: invalid value encountered in sqrt\n",
            "  \"\"\"Entry point for launching an IPython kernel.\n"
          ]
        }
      ]
    },
    {
      "cell_type": "code",
      "metadata": {
        "id": "CBI4-Gn_axtc",
        "colab": {
          "base_uri": "https://localhost:8080/"
        },
        "outputId": "9a9ac055-65e5-4239-bdcd-6d4a2d6ffe30"
      },
      "source": [
        "print(np.sqrt(x,dtype=complex))"
      ],
      "execution_count": 56,
      "outputs": [
        {
          "output_type": "stream",
          "name": "stdout",
          "text": [
            "[ 0.        +2.30217289j  0.        +1.j          0.        +0.j\n",
            "  1.22474487+0.j          3.16227766+0.j         10.        +0.j        ]\n"
          ]
        }
      ]
    },
    {
      "cell_type": "code",
      "metadata": {
        "id": "DuCeny_gaxtc",
        "colab": {
          "base_uri": "https://localhost:8080/"
        },
        "outputId": "f7c09609-62ce-42ee-a621-7bb54b8e432e"
      },
      "source": [
        "print(np.power(x,2))"
      ],
      "execution_count": 57,
      "outputs": [
        {
          "output_type": "stream",
          "name": "stdout",
          "text": [
            "[2.809e+01 1.000e+00 0.000e+00 2.250e+00 1.000e+02 1.000e+04]\n"
          ]
        }
      ]
    },
    {
      "cell_type": "markdown",
      "metadata": {
        "id": "NQsZTEy3axtd"
      },
      "source": [
        "#### Nota: \n",
        "En algunos casos requeriremos crear nuestras propias funciones y es recomendable que se apeguen a las ufuncs, es decir que se puedan aplicar independiente de la dimensión del objeto al que se aplican, que soporten broadcasting y muy importante **que su definición evite ciclos y use operaciones vectorizadas y otras ufuncs** , esto será parte de los criterios de evaluación en tareas y exámenes en este curso."
      ]
    },
    {
      "cell_type": "markdown",
      "metadata": {
        "id": "RdpBYHliaxte"
      },
      "source": [
        "#### Ejemplos en DS:\n",
        "\n",
        "**1)**\n",
        "En machine learning se necesita una manera de \"evaluar\" nuestros modelos ,en ML del tipo \"supervisado\" para modelos de variables discretas categóricas  usamos  para esto  la \"entropía cruzada\" que mide la diferencia  entre 2 distribuciones de probabilidad,la que nuestro modelo predice vs la real obtenida de datos **ground truth** , una entropía cruzada alta es un modelo de ML malo y una entropía cruzada de 0 es un modelo de ML perfecto.\n",
        "\n",
        "La entropía medida en bits(ojo,no cruzada, solo entropía) se define como \"el promedio de información\"(promedio ponderado) y la información se define se define como el negativo del logaritmo base 2 de la probabilidad . \n",
        "\n",
        "$$I(x) = -log_{2}P(x)$$\n",
        "\n",
        "**Comentario**:La entropía es una medida de \"incerteza\", si un evento puede producir muchos resultados diferentes entonces tenemos una alta incerteza del evento lo cual se traduce a entropía alta.\n",
        "\n",
        "La siguiente función calcula para cierta distribución de probabilidad dada por un vector px la información de cada elemento."
      ]
    },
    {
      "cell_type": "code",
      "metadata": {
        "id": "2QOKk1H7C9aI"
      },
      "source": [
        ""
      ],
      "execution_count": 57,
      "outputs": []
    },
    {
      "cell_type": "code",
      "metadata": {
        "id": "LVBqUS7Uaxtf",
        "colab": {
          "base_uri": "https://localhost:8080/"
        },
        "outputId": "eac09008-dc14-4dc4-8337-6a5790956e34"
      },
      "source": [
        "def calcular_informacion(px):\n",
        "    return np.log2(px)*-1 # teoría de la información\n",
        "\n",
        "distribucion_prob1 = [1.0]\n",
        "distribucion_prob2 = [0.5,0.5] # la entropia es maxima cuando todos tienen la misma prob\n",
        "distribucion_prob3 = [1.0,0.0]\n",
        "distribucion_prob4 = [0.9999]\n",
        "distribucion_prob5 = [0.25,0.75]\n",
        "distribucion_prob6 = [0.2]*5 # ojo estas son listas por lo tanto * la replica, no son arrays de numpy\n",
        "distribucion_prob7 = [0.4,0.2,0.1,0.1,0.2]\n",
        "\n",
        "print(calcular_informacion(distribucion_prob1))\n",
        "print(calcular_informacion(distribucion_prob2))\n",
        "print(calcular_informacion(distribucion_prob3))\n",
        "print(calcular_informacion(distribucion_prob4))\n",
        "print(calcular_informacion(distribucion_prob5))\n",
        "print(calcular_informacion(distribucion_prob6))\n",
        "print(calcular_informacion(distribucion_prob7))"
      ],
      "execution_count": 58,
      "outputs": [
        {
          "output_type": "stream",
          "name": "stdout",
          "text": [
            "[-0.]\n",
            "[1. 1.]\n",
            "[-0. inf]\n",
            "[0.00014428]\n",
            "[2.        0.4150375]\n",
            "[2.32192809 2.32192809 2.32192809 2.32192809 2.32192809]\n",
            "[1.32192809 2.32192809 3.32192809 3.32192809 2.32192809]\n"
          ]
        },
        {
          "output_type": "stream",
          "name": "stderr",
          "text": [
            "/usr/local/lib/python3.7/dist-packages/ipykernel_launcher.py:2: RuntimeWarning: divide by zero encountered in log2\n",
            "  \n"
          ]
        }
      ]
    },
    {
      "cell_type": "markdown",
      "metadata": {
        "id": "LCcPuLnzaxtg"
      },
      "source": [
        "**Ejercicio** Para calcular la información de una distribución de probabilidad necesitamos calcular el producto entre la información de cada posible x y su probabilidad , cada uno de estos elementos nos indica cuanta incerteza aporta cada x a la entropía de la distribución. Crea una función que calcule esto, debe recibir un vector representando a la dist. de probabilidad y devoler otro vector con el termino de entropía para cada x. Por ejemplo:\n",
        "\n",
        "calcular_entropia([0.25,0.75])\n",
        "\n",
        "Debe resultar en :\n",
        "\n",
        "[0.5    ,    0.31127812]\n",
        "\n",
        "**Nota**: la entropía es la suma sobre estos valores, en este caso no calculamos la entropía,unicamente los termimos de su sumatoria. La entropía es:\n",
        "\n",
        "$$S = -\\sum_i^nP(x_{i})log_{2}P(x_{i})$$"
      ]
    },
    {
      "cell_type": "code",
      "metadata": {
        "id": "CSBwGnZ-axth"
      },
      "source": [
        "# tu codigo aqui (~ 4 lineas de codigo)\n",
        "\n"
      ],
      "execution_count": 59,
      "outputs": []
    },
    {
      "cell_type": "markdown",
      "metadata": {
        "id": "d2IreNMKaxth"
      },
      "source": [
        "**2)** \n",
        "\n",
        "A partir de la información en un data warehouse con un modelo de  datos el valor de clientes en el tiempo se ha determinado un modelo predictivo  no lineal que estima cuanta ganancia ha generado cierto cliente en 5 años en base a lo que ha gastado en su primer mes como cliente. \n",
        "\n",
        "El modelo tiene la forma:\n",
        "\n",
        "$$g(x) = (x^{3} + 2x^{2} + e^{0.0001x} -\\sqrt{2x})/50$$\n",
        "\n",
        "Crear una función que calcule la ganancia para valores de gasto de nuevos clientes:"
      ]
    },
    {
      "cell_type": "code",
      "metadata": {
        "id": "u4D60NkLaxti",
        "colab": {
          "base_uri": "https://localhost:8080/"
        },
        "outputId": "b1e7d76b-1e9b-4f91-8c37-1e02ac78cd42"
      },
      "source": [
        "def g(x): #<- vector\n",
        "    \n",
        "    ganancia = (np.power(x,3) + 2.0*(np.power(x,2.0))+np.exp(0.0001*x) - np.sqrt(2.0*x))/50\n",
        "    \n",
        "    return ganancia # <- vector del mismo tamaño que x\n",
        "    \n",
        "gastos = np.array([100,50,25,100]) #vector\n",
        "ganancia = g(gastos)\n",
        "\n",
        "print(\"Ganancias\",ganancia)"
      ],
      "execution_count": 60,
      "outputs": [
        {
          "output_type": "stream",
          "name": "stdout",
          "text": [
            "Ganancias [20399.73735829  2599.82010025   337.37862871 20399.73735829]\n"
          ]
        }
      ]
    },
    {
      "cell_type": "markdown",
      "metadata": {
        "id": "afpF1h4Kaxti"
      },
      "source": [
        "**Ejercicio** : se ha determinado también que hay costos asociados a la comunicación y relación con los clientes(llamadas,mensajes electrónicos,etc) y que estos también tienen alta correlación con el monto que estos gastan en su primer més siguiendo el modelo:\n",
        "$$c(x) = (x^{2} + x + log (0.0001x)-\\sqrt{0.54x})/100$$\n",
        "\n",
        "Cree una función para calcular este modelo sobre valores de de gasto de nuevos clientes , y luego cree una función  **ganancia_neta(x,g,c)** donde:\n",
        "* x = vector conteniendo los valores de gasto del primer mes para nuevos clientes.\n",
        "* g = función que estima la ganancia en función de x\n",
        "* c = función que estima el costo en función de x\n",
        "\n",
        "La función realiza el calculo simple **g(x) - c(x)** , ya que es posible que los modelos cambien en el tiempo es común recibir como parámetro el modelo o modelos hijos de un modelo mas grande , en este caso eso se logra recibiendo como parámetro las funciones de ganancia y costo."
      ]
    },
    {
      "cell_type": "code",
      "metadata": {
        "id": "ux1p0QzlGhGQ",
        "colab": {
          "base_uri": "https://localhost:8080/"
        },
        "outputId": "75498aa7-5dcd-4fcc-9cca-331fbc7a5e6d"
      },
      "source": [
        "def ganancia_neta(x): #de una vez lo incluí en una sola función\n",
        "  ingreso = (np.power(x,3) + 2.0*(np.power(x,2.0))+np.exp(0.0001*x) - np.sqrt(2.0*x))/50\n",
        "  costo = ((np.power(x,2) + x + np.log(0.0001*x)-np.sqrt(0.54*x))/100)\n",
        "  ganancia_neta=ingreso-costo\n",
        "  return ganancia_neta\n",
        "\n",
        "cliente=np.array([100,50,25,100])\n",
        "ganancia_neta(cliente)"
      ],
      "execution_count": 61,
      "outputs": [
        {
          "output_type": "execute_result",
          "data": {
            "text/plain": [
              "array([20298.85689469,  2574.42504495,   330.9752857 , 20298.85689469])"
            ]
          },
          "metadata": {},
          "execution_count": 61
        }
      ]
    },
    {
      "cell_type": "markdown",
      "metadata": {
        "id": "Nzg9gVdoaxtj"
      },
      "source": [
        "### Funciones miscelaneas(agregación y estadistica descriptiva básica) \n",
        "\n",
        "Ya hemos trabajado algunas funciones de NumPy pero han sido funciones \"elementwise\" cuyo vector resultante tiene el mismo tamaño que el vector de entrada, existen muchas otras funciones que utilizamos en casos en los que necesitamos agregar,resumir cierto vector,incluyendo en este tipo de funciones algunas de estadistica descriptiva básica."
      ]
    },
    {
      "cell_type": "code",
      "metadata": {
        "id": "yieQlOmRaxtk"
      },
      "source": [
        "x = np.array([1,2,3,4,5,6,7,8,9,2,2])\n",
        "x_nan = np.array([1,2,3,4,np.nan,6,8,2,2])"
      ],
      "execution_count": 62,
      "outputs": []
    },
    {
      "cell_type": "code",
      "metadata": {
        "id": "Qb8Lrr_Aaxtk",
        "colab": {
          "base_uri": "https://localhost:8080/"
        },
        "outputId": "62d179de-d7aa-4a5c-932d-ddd269c7d41e"
      },
      "source": [
        "#nanmax ignora valores nan si existieran , max retorna nan si el vector tuviera un nan\n",
        "\n",
        "\n",
        "print(np.max(x))\n",
        "print(x.max())\n",
        "print(np.max(x_nan))\n",
        "\n",
        "print(np.nanmax(x))\n",
        "print(np.nanmax(x_nan))"
      ],
      "execution_count": 63,
      "outputs": [
        {
          "output_type": "stream",
          "name": "stdout",
          "text": [
            "9\n",
            "9\n",
            "nan\n",
            "9\n",
            "8.0\n"
          ]
        }
      ]
    },
    {
      "cell_type": "code",
      "metadata": {
        "id": "tGpt63roaxtl",
        "colab": {
          "base_uri": "https://localhost:8080/"
        },
        "outputId": "2e2c5cec-e978-48a3-b443-e12d4d37d104"
      },
      "source": [
        "print(np.argmax(x))\n",
        "print(x.argmax())"
      ],
      "execution_count": 64,
      "outputs": [
        {
          "output_type": "stream",
          "name": "stdout",
          "text": [
            "8\n",
            "8\n"
          ]
        }
      ]
    },
    {
      "cell_type": "code",
      "metadata": {
        "id": "TrAFnPNzaxtn",
        "colab": {
          "base_uri": "https://localhost:8080/"
        },
        "outputId": "3dba06b1-0d3d-41c1-c044-b9c638e5f554"
      },
      "source": [
        "print(np.min(x))\n",
        "print(x.min())\n",
        "print(np.min(x_nan))\n",
        "\n",
        "print(np.nanmin(x))\n",
        "print(np.nanmin(x_nan))"
      ],
      "execution_count": 65,
      "outputs": [
        {
          "output_type": "stream",
          "name": "stdout",
          "text": [
            "1\n",
            "1\n",
            "nan\n",
            "1\n",
            "1.0\n"
          ]
        }
      ]
    },
    {
      "cell_type": "code",
      "metadata": {
        "id": "04gNPKimaxto",
        "colab": {
          "base_uri": "https://localhost:8080/"
        },
        "outputId": "7cc6c9cb-a16b-4c87-c92e-67dbef4f33bc"
      },
      "source": [
        "print(np.argmin(x))\n",
        "print(x.min())"
      ],
      "execution_count": 66,
      "outputs": [
        {
          "output_type": "stream",
          "name": "stdout",
          "text": [
            "0\n",
            "1\n"
          ]
        }
      ]
    },
    {
      "cell_type": "code",
      "metadata": {
        "id": "HsKlSLzXNSQ6",
        "colab": {
          "base_uri": "https://localhost:8080/"
        },
        "outputId": "943b0a35-0ed0-44b4-bb08-be6317b546a9"
      },
      "source": [
        "np.argmin(np.array([456,2,100,23]))"
      ],
      "execution_count": 67,
      "outputs": [
        {
          "output_type": "execute_result",
          "data": {
            "text/plain": [
              "1"
            ]
          },
          "metadata": {},
          "execution_count": 67
        }
      ]
    },
    {
      "cell_type": "code",
      "metadata": {
        "id": "FnZAM55TNfbH",
        "colab": {
          "base_uri": "https://localhost:8080/"
        },
        "outputId": "bc918345-3ec3-472e-d25d-8b6b48e697d3"
      },
      "source": [
        "np.min(np.array([456,2,100,23]))"
      ],
      "execution_count": 68,
      "outputs": [
        {
          "output_type": "execute_result",
          "data": {
            "text/plain": [
              "2"
            ]
          },
          "metadata": {},
          "execution_count": 68
        }
      ]
    },
    {
      "cell_type": "code",
      "metadata": {
        "id": "N0yvY5U4axtp",
        "colab": {
          "base_uri": "https://localhost:8080/"
        },
        "outputId": "4bb20b06-bdbe-4708-be6a-3838074bc7fb"
      },
      "source": [
        "print(np.sum(x))\n",
        "print(x.sum())\n",
        "print(np.sum(x_nan))"
      ],
      "execution_count": 69,
      "outputs": [
        {
          "output_type": "stream",
          "name": "stdout",
          "text": [
            "49\n",
            "49\n",
            "nan\n"
          ]
        }
      ]
    },
    {
      "cell_type": "code",
      "metadata": {
        "id": "zDuDhNVbaxtr",
        "colab": {
          "base_uri": "https://localhost:8080/"
        },
        "outputId": "fb911427-954a-4637-9987-42bf87e4d184"
      },
      "source": [
        "print(np.prod(x))\n",
        "print(x.prod())\n",
        "print(np.prod(x_nan))"
      ],
      "execution_count": 70,
      "outputs": [
        {
          "output_type": "stream",
          "name": "stdout",
          "text": [
            "1451520\n",
            "1451520\n",
            "nan\n"
          ]
        }
      ]
    },
    {
      "cell_type": "markdown",
      "metadata": {
        "id": "TVcTQSn8axts"
      },
      "source": [
        "#### Aritmetica acumulativa\n",
        "\n",
        "En muchos casos es útil usar sumas o productos acumulativos , por ejemplo:\n",
        "\n",
        "**Ejemplo aplicado** En un datawarehouse se tiene un modelo \"lifetime value\" en el que se almacena de manera acumulativa cuantas ganancias se han percibido a lo largo de la vida de los usuarios, un ETL en Python debe calcularlo en función de un vector que contiene de manera ordenada en el tiempo los ingresos percibidos mensualmente para cierto usuario. Podemos usar la funcion **np.cumsum** para esto, en este ejercicio necesitamos determinar el \"lifetime value\" de cierto usuario en su 6to mes:\n"
      ]
    },
    {
      "cell_type": "code",
      "metadata": {
        "id": "Gk3Qcf9UK8JW",
        "colab": {
          "base_uri": "https://localhost:8080/"
        },
        "outputId": "24a5862f-b2ee-491e-e197-dc8a1228d086"
      },
      "source": [
        "a = np.array([1,2,3,4,5])\n",
        "\n",
        "np.cumsum(a)"
      ],
      "execution_count": 71,
      "outputs": [
        {
          "output_type": "execute_result",
          "data": {
            "text/plain": [
              "array([ 1,  3,  6, 10, 15])"
            ]
          },
          "metadata": {},
          "execution_count": 71
        }
      ]
    },
    {
      "cell_type": "code",
      "metadata": {
        "id": "2lG2pEJ1LP2K",
        "colab": {
          "base_uri": "https://localhost:8080/"
        },
        "outputId": "525c5528-10d2-4b14-d884-f2bb669033e3"
      },
      "source": [
        "np.cumprod(a)"
      ],
      "execution_count": 72,
      "outputs": [
        {
          "output_type": "execute_result",
          "data": {
            "text/plain": [
              "array([  1,   2,   6,  24, 120])"
            ]
          },
          "metadata": {},
          "execution_count": 72
        }
      ]
    },
    {
      "cell_type": "code",
      "metadata": {
        "id": "QbBqxQR_axts",
        "colab": {
          "base_uri": "https://localhost:8080/"
        },
        "outputId": "f2f5e4a5-8256-4c77-a445-b04d826e401c"
      },
      "source": [
        "def lifetime_value(ganancias_mensuales):\n",
        "  lifetime_value_usuario=np.cumsum(ganancias_mensuales)\n",
        "  return(lifetime_value_usuario)\n",
        "\n",
        "# Prueba:\n",
        "ganancias_usuario = np.array([25,150,125,75,100,45,22,30])\n",
        "lifetime_value_usuario = lifetime_value(ganancias_usuario)\n",
        "\n",
        "print(\"Lifetime value:\",lifetime_value_usuario)\n",
        "\n",
        "print(\"El valor del usuario a su sexto mes es :\",\"Q\",lifetime_value_usuario[5])"
      ],
      "execution_count": 73,
      "outputs": [
        {
          "output_type": "stream",
          "name": "stdout",
          "text": [
            "Lifetime value: [ 25 175 300 375 475 520 542 572]\n",
            "El valor del usuario a su sexto mes es : Q 520\n"
          ]
        }
      ]
    },
    {
      "cell_type": "markdown",
      "metadata": {
        "id": "0x1fNi5Maxtt"
      },
      "source": [
        "Poseemos también la funcióm similar **np.cumprod** que multiplica de manera acumulativa los elementos de un vector."
      ]
    },
    {
      "cell_type": "code",
      "metadata": {
        "id": "oUGqlC42axtu",
        "colab": {
          "base_uri": "https://localhost:8080/"
        },
        "outputId": "5f4798af-f572-456b-b3a1-bf5a8ec706ca"
      },
      "source": [
        "print(np.cumprod(ganancias_usuario))"
      ],
      "execution_count": 74,
      "outputs": [
        {
          "output_type": "stream",
          "name": "stdout",
          "text": [
            "[             25            3750          468750        35156250\n",
            "      3515625000    158203125000   3480468750000 104414062500000]\n"
          ]
        }
      ]
    },
    {
      "cell_type": "markdown",
      "metadata": {
        "id": "7NGf_2y5axtu"
      },
      "source": [
        "#### Estadística descriptiva\n",
        "\n",
        "https://docs.scipy.org/doc/numpy-1.15.0/reference/routines.statistics.html"
      ]
    },
    {
      "cell_type": "code",
      "metadata": {
        "id": "iQFFYwfPaxtv",
        "colab": {
          "base_uri": "https://localhost:8080/"
        },
        "outputId": "7f6e67b6-95cd-4a68-e27d-875c9cca069f"
      },
      "source": [
        "print(np.mean(x))\n",
        "print(x_nan.mean())"
      ],
      "execution_count": 75,
      "outputs": [
        {
          "output_type": "stream",
          "name": "stdout",
          "text": [
            "4.454545454545454\n",
            "nan\n"
          ]
        }
      ]
    },
    {
      "cell_type": "code",
      "metadata": {
        "id": "lwAxPhqdL7zX",
        "colab": {
          "base_uri": "https://localhost:8080/"
        },
        "outputId": "9d5993e4-c34c-4c72-c3d9-263480b52b63"
      },
      "source": [
        "np.nanmean(x_nan)"
      ],
      "execution_count": 76,
      "outputs": [
        {
          "output_type": "execute_result",
          "data": {
            "text/plain": [
              "3.5"
            ]
          },
          "metadata": {},
          "execution_count": 76
        }
      ]
    },
    {
      "cell_type": "code",
      "metadata": {
        "id": "mS1zTVbFaxtw",
        "colab": {
          "base_uri": "https://localhost:8080/"
        },
        "outputId": "ab8918e3-6efe-44d1-b1e4-c9d41ba7907a"
      },
      "source": [
        "print(np.median(x))\n",
        "print(np.median(x_nan))"
      ],
      "execution_count": 77,
      "outputs": [
        {
          "output_type": "stream",
          "name": "stdout",
          "text": [
            "4.0\n",
            "nan\n"
          ]
        }
      ]
    },
    {
      "cell_type": "code",
      "metadata": {
        "id": "zWK9TMATaxtw",
        "colab": {
          "base_uri": "https://localhost:8080/"
        },
        "outputId": "6563e4c6-a277-428c-886d-59df4149da82"
      },
      "source": [
        "print(x.std())\n",
        "print(np.std(x))"
      ],
      "execution_count": 78,
      "outputs": [
        {
          "output_type": "stream",
          "name": "stdout",
          "text": [
            "2.6064129430602643\n",
            "2.6064129430602643\n"
          ]
        }
      ]
    },
    {
      "cell_type": "code",
      "metadata": {
        "id": "Dzn4LVTpaxtx",
        "colab": {
          "base_uri": "https://localhost:8080/"
        },
        "outputId": "0e82c467-824c-4a05-bd8c-3b59711f75fa"
      },
      "source": [
        "print(x.var())\n",
        "print(np.var(x))"
      ],
      "execution_count": 79,
      "outputs": [
        {
          "output_type": "stream",
          "name": "stdout",
          "text": [
            "6.793388429752068\n",
            "6.793388429752068\n"
          ]
        }
      ]
    },
    {
      "cell_type": "markdown",
      "metadata": {
        "id": "Fn081ds-axty"
      },
      "source": [
        "**Ejercicio** Usando argmax crear una función mode(x) para calcular la moda de un vector x , esta función debe devolver una tupla de 2 elementos de la forma:\n",
        "\n",
        "(valor,conteo)\n",
        "\n",
        "**tip** investigar y auxiliarse de otras funciones de numpy y np.argmax, no olvidar trabajar todo vectorizado, sin ciclos."
      ]
    },
    {
      "cell_type": "code",
      "metadata": {
        "id": "W0Y0-ZZ-axty",
        "colab": {
          "base_uri": "https://localhost:8080/",
          "height": 130
        },
        "outputId": "7ed369d9-189a-4dd7-ea56-c1d3e8cebf22"
      },
      "source": [
        "def mode(x):\n",
        "    ## tu codigo aqui (~ 3 lineas de codigo):\n",
        "    \n",
        "print(mode(x))"
      ],
      "execution_count": 80,
      "outputs": [
        {
          "output_type": "error",
          "ename": "IndentationError",
          "evalue": "ignored",
          "traceback": [
            "\u001b[0;36m  File \u001b[0;32m\"<ipython-input-80-3a77a2cdcd68>\"\u001b[0;36m, line \u001b[0;32m4\u001b[0m\n\u001b[0;31m    print(mode(x))\u001b[0m\n\u001b[0m        ^\u001b[0m\n\u001b[0;31mIndentationError\u001b[0m\u001b[0;31m:\u001b[0m expected an indented block\n"
          ]
        }
      ]
    },
    {
      "cell_type": "code",
      "metadata": {
        "id": "1cyToCNGpdA1"
      },
      "source": [
        "dist_a = np.array([0.3,0.5,0.2])"
      ],
      "execution_count": null,
      "outputs": []
    },
    {
      "cell_type": "markdown",
      "metadata": {
        "id": "OWnk9Eoeaxtz"
      },
      "source": [
        "**Ejercicio** : crear una función para calcular la entropía  de una distribución de probabilidad representada como un vector.\n",
        "$$S = -\\sum_i^nP(x_{i})log_{2}P(x_{i})$$\n",
        "\n",
        "**Nota**: a diferencia del ejercicio anterior donde solo calculamos los términos de la entropía, en este caso  si calculamos el valor completo de la entropía, que como mencionamos es una medida de incerteza en una distribución de probabilidad.\n",
        "\n",
        "**recordatorio**: no usar ciclos solo operaciones vectorizadas."
      ]
    },
    {
      "cell_type": "code",
      "metadata": {
        "id": "OaCUbbd_axtz"
      },
      "source": [
        "# tu codigo aqui (~ 3 lineas de codigo)\n",
        "\n"
      ],
      "execution_count": null,
      "outputs": []
    },
    {
      "cell_type": "markdown",
      "metadata": {
        "id": "Ee4Z784maxt0"
      },
      "source": [
        "**Ejercicio**: En ML usamos la entropía cruzada como una forma de medir que tan bueno es un modelo de variables discretas a través de comparar la distribución de probabilidad que el modelo produce o predice, vs la distribución de probabilidad real dada por los datos de entrenamiento.\n",
        "\n",
        "Podemos ver el siguiente ejemplo que define la forma en que se calcula la entropía cruzada y nos muestra un caso específico:\n",
        "\n",
        "<img src=\"https://image.slidesharecdn.com/publishintroductiontodeeplearninginpythonandmatlab1-160502102437/95/introduction-to-deep-learning-in-python-and-matlab-54-638.jpg?cb=1462185644\">\n",
        "\n",
        "En este caso interpretamos así: El problema consiste en un modelo o algoritmo de ML que debe producir un vector de 3 elementos indicando la probabilidad de que ciertos datos X pertenezcan a una de 3 categorías.\n",
        "\n",
        "* El modelo de ML produce un vector que indica que estima un 70% de probabilidad de que se trate de la categoría 0, 20% de probabilidad de que se trate de la categoría 1 y 10% de que se trate de la categoría 2.\n",
        "* Los datos reales nos dicen que se trataba de un caso donde con total certeza se sabe que se trata de la categoría 0\n",
        "* La entropía cruzada(a calcular en el ejercicio) nos indica que tan buena es la estimación del modelo, una EC de 0 es un modelo perfecto(en este caso un modelo que predice 100% de prob para la clase 0)\n",
        "\n",
        "**Nota** \n",
        "* Aun que para calcular la entropía usamos logaritmos en base 2, en ML para calcular la entropía cruzada se usa logaritmo natural ya que con este se cumple el proposito **estimar que tanto se alejan las predicciones del modelo de ML de los datos reales** y es comunmente mas rápido de calcular en la computadora.\n",
        "* Ya que estamos trabajando con vectores que representan distribuciones de probabilidad , podemos toparnos con lo que se conoce como : **sparse vectors**(vectores donde la mayoría de elementos son 0), esto puede producir problemas ya que le logaritmo de 0 no esta definido, tu solución debe tomar en cuenta esto y evitar que devuelva \"nan\""
      ]
    },
    {
      "cell_type": "code",
      "metadata": {
        "id": "E1mfe9x6axt0"
      },
      "source": [
        "def cross_entropy(Y,Y_hat):\n",
        "    ##tu codigo aqui (~ 1 lineas de codigo)\n",
        "    \n",
        "    \n",
        "\n",
        "y  = np.array([1.0,0,0])\n",
        "y_hat = np.array([0.7,0.2,0.1]) # <- resultado de algun modelo predictivo\n",
        "\n",
        "cross_entropy(y,y_hat)"
      ],
      "execution_count": null,
      "outputs": []
    },
    {
      "cell_type": "markdown",
      "metadata": {
        "id": "XTSzWXdsaxt1"
      },
      "source": [
        "\n",
        "### Magnitud de un Vector(norma o módulo)\n",
        "Ya hemos visto que en DS usamos vectores para representar información ,una propiedad importante de los vectores es la **magnitud** del vector. \n",
        "\n",
        "Matemáticamente la magnitud de un vector(también conocida como norma vectorial)  nos indica  el tamaño de este , y nos sirve para tener una noción de la distancia desde un punto de referencia(origen) hasta el punto representado por el vector.\n",
        "\n",
        "\n",
        "\n",
        "<img src=\"http://mathonline.wdfiles.com/local--files/the-norm-of-a-vector/Screen%20Shot%202014-06-12%20at%205.37.19%20PM.png\">\n",
        "\n",
        "Se puede calcular con:\n",
        "\n",
        "<img src=\"https://images.slideplayer.com/18/6074185/slides/slide_4.jpg\">\n",
        "\n",
        "En DS la interpretación de la magnitud depende del problema y significado del vector sobre el que se trabaje, ademas de ser también utilizada en calculos mas complejos,por ejemplo: **similitud por cosenos**.\n",
        "\n",
        "<img src=\"https://machinelearningflashcards.com/images/L2_Norm_print.png\">\n",
        "\n",
        "\n",
        "Algunos ejemplos:\n",
        "* En machine learning:\n",
        "    * Si almacenamos en 2 vectores los errores producidos por 2 modelos de ML , podemos usar la magnitud de estos para determinar cual de los 2 modelos es mejor.\n",
        "    * Cuando un modelo de ML \"memoriza\" en lugar de \"aprender\" decimos que sufre \"overfitting\" una forma de atacar este problema es usar \"L2 regularization\" que consiste en agregar a la \"función de costo\" un término de penalización que es calculado a partir de la magnitud de parámetros del modelo(cuadrado de la magnitud)\n",
        "    \n",
        "    <img src=\"https://cdn-images-1.medium.com/max/1600/1*JP9VzwxsRXjocb3WgVOTxA.png\">\n",
        "    * Un paso de pre-procesamiento común en ML es aplicar \"normalización\" a los datos, esto se logra(entre otras formas) dividiendo el vector de datos dentro de su magnitud de manera que tenga magnitud 1.\n",
        "    \n",
        "* En NLP(natural language processing): es común representar documentos como vectores n dimensionales, donde n es el número de palabras en cierto vocabulario, cada elemento \"i\" del vector indica cuantas veces aparece en el documento la palabra denotada por la posición \"i\" , podemos  usar la magnitud vectorial  para calcular la **similitud cosenoidal** y así estimar que tanto se  parece en contenido un documento a otro.\n",
        "<img src=\"https://www.machinelearningplus.com/wp-content/uploads/2018/10/Cosine-Similarity-Formula-1.png\">\n",
        "\n",
        "**ejercicio** : crear una función que reciba como parámetro un vector x y calcule su magnitud o norma(euclidiana o L2) ,luego usarla para evaluar 2 vectores que representan los errores generados por 2 modelos de machine learning y concluir cual de los 2 modelos es mejor."
      ]
    },
    {
      "cell_type": "code",
      "metadata": {
        "id": "TyUB8hzKaxt1"
      },
      "source": [
        "def magnitud(x):\n",
        "    x=np.linalg.norm(x)\n",
        "    return x\n",
        "\n",
        "errores_modelo1 = np.array([1,2,1,2]) #\n",
        "errores_modelo2 = np.array([0,1,1,2]) #\n",
        "\n",
        "a=magnitud(errores_modelo1)\n",
        "b=magnitud(errores_modelo2)\n",
        "print(\"a=\",a,\"b=\",b)\n",
        "# elegir el mejor modelo con una condicional(if)\n",
        "if a < b:\n",
        "  print(\"El mejor modelo es el #1\")\n",
        "else:\n",
        "  print(\"El mejor modelo es el #2\")"
      ],
      "execution_count": null,
      "outputs": []
    },
    {
      "cell_type": "markdown",
      "metadata": {
        "id": "7Jc1Cbuwaxt2"
      },
      "source": [
        "**ejercicio** Usando la función del ejercicio anterior, crea otra función normalizar(x) que reciba de parámetro un vector x aplique normalización sobre este, el resultado debe ser un nuevo vector del tamaño de x cuya magnitud es igual a 1.0"
      ]
    },
    {
      "cell_type": "code",
      "metadata": {
        "id": "t8tDRkdNaxt2"
      },
      "source": [
        "def normalizar(x):\n",
        "    ## tu codigo aqui (~ 3 linea de codigo)\n",
        "    \n",
        "    \n",
        "\n",
        "print(magnitud(normalizar(errores_modelo1)))\n",
        "print(normalizar(errores_modelo2))"
      ],
      "execution_count": null,
      "outputs": []
    },
    {
      "cell_type": "markdown",
      "metadata": {
        "id": "GGDfc5t_axt4"
      },
      "source": [
        "### Producto Punto(escalar,interno,interior) y Ortogonalidad\n",
        "\n",
        "El producto punto(también conocido como producto escalar,producto interno o producto interior es una operación entre 2 vectores, cuyo resultado es un único número(escalar).\n",
        "\n",
        "Existen basicamente 2 definiciones del producto punto siendo la más conocida la sumatoria de los productos entre elementos de los vectores.\n",
        "\n",
        "Otra definición geométrica del producto punto puede ser obtenida basandonos en la magnitud de los vectores y el ángulo entre ellos.\n",
        "\n",
        "<img src = \"https://ocw.mit.edu/courses/mathematics/18-02sc-multivariable-calculus-fall-2010/1.-vectors-and-matrices/part-a-vectors-determinants-and-planes/session-2-dot-products/MIT18_02SC_L1Brds_5.png\">\n",
        "\n",
        "Por lo tanto podemos usar estas expresiones para encontrar el ángulo existente entre los 2 vectores.\n",
        "\n",
        "<img src=\"data:image/png;base64,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\">\n",
        "\n",
        "#### Interpretación \n",
        "Existen diversas interpretaciones de esta operación , algunas son :\n",
        "\n",
        "* Que tan similares son 2 vectores: esto es útil en casos donde tengamos vectores de datos y necesitemos comparar su similitud.\n",
        "* Proyectar un vector sobre otro: el producto punto es el tamaño de la proyección de un vector A sobre un vector B multiplicado por el tamaño del vector B\n",
        "<img src=\"https://raw.githubusercontent.com/llealgt/Galileo_Python_DS/main/NumPy_algebra_lineal/dot_product.png\">\n",
        "* El producto punto es parte importante de la multiplicación de matrices(tema aún por desarrollar), una de las operaciones más importantes en AI a través de deep learning.\n",
        "\n",
        "\n",
        "#### Usos y aplicaciones del producto punto\n",
        "\n",
        "El producto punto tiene diversas aplicaciones en muchas ciencias, en ciencias de datos es muy utilizado y aplicado , por ejemplo:\n",
        "\n",
        "* **En Machine Learning**:\n",
        "    * En modelos lineales como regresión lineal o regresión lógistica es común guardar en un vector los parámetros de los modelos(aveces llamado W) y cuando queremos hacer inferencia sobre ciertos datos \"x\" almacenamos los datos \"x\" en un vector X y aplicamos la operación producto punto entre X y W.\n",
        "    <img src=\"https://images.slideplayer.com/24/7356693/slides/slide_5.jpg\">\n",
        "    * Una interpretación geométrica del producto punto es que tan similares dos vectores son entre sí , las redes neuronales utilizan este principio  para definir multiples capas jerarquicas de \"caraceterísticas\"(representadas por neuronas) que buscar sobre ciertos datos de entrada X, estas  características  son definidas en vectores  por lo cual el producto punto es una medida de que tanto se parece cierto vector X a la característica que la neurona representa, un valor alto del producto punto indica alta similitud entre los datos X y la característica que la neurona \"busca\"\n",
        "    <img src=\"https://miro.medium.com/max/816/1*BMSfafFNEpqGFCNU4smPkg.png\">\n",
        "    \n",
        "\n",
        "#### Perpendicularidad \n",
        "\n",
        "Se dice que 2 vectores son perpendiculares si el producto punto entre ellos es igual a 0 ,geometricamente esto ocurre cuando los vectores se encuentran a 90 grados entre sí por lo cual en DS podemos interpretar que 2 vectores cuyo producto punto es 0, son vectores que difieren mucho por lo tanto son muy diferentes.\n",
        "\n",
        "\n",
        "<img src=\"https://chortle.ccsu.edu/VectorLessons/vch07/acuteORobtuse.gif\">\n",
        "    \n",
        "#### Producto punto en NumPy\n",
        "\n",
        "En NumPy poseemos 2 maneras de calcular el producto punto sobre vectores de igual tamaño:\n",
        "\n",
        "* np.dot:https://docs.scipy.org/doc/numpy/reference/generated/numpy.dot.html#numpy.dot\n",
        "* np.inner:https://docs.scipy.org/doc/numpy/reference/generated/numpy.inner.html\n",
        "\n",
        "**¿Por que 2 operaciones?** Estas operaciones son diferentes cuando se trabaja con Tensores de rango mayor a 1 y pueden ser \"configurables\" , para Tensores de rango=1(vectores de igual tamaño,nuestro tema actual) son equivalentes."
      ]
    },
    {
      "cell_type": "code",
      "metadata": {
        "id": "O9GZeh16axt5"
      },
      "source": [
        "import matplotlib.pyplot as plt\n",
        "\n",
        "a = np.array([100,100]) #usuario1\n",
        "b = np.array([100,100]) #usuario2\n",
        "\n",
        "\n",
        "print(np.dot(a,b)/(np.linalg.norm(a)*np.linalg.norm(b)))\n",
        "plt.arrow(0,0,a[0],a[1],head_width=1,head_length=1,color=\"r\")\n",
        "plt.arrow(0,0,b[0],b[1],head_width=1,head_length=1,color=\"b\")\n",
        "plt.xlim(-20,20)\n",
        "plt.ylim(-20,20)\n",
        "plt.show()\n",
        "\n",
        "print(np.dot(a,b))"
      ],
      "execution_count": null,
      "outputs": []
    },
    {
      "cell_type": "code",
      "metadata": {
        "id": "qPcjCo_1axt6"
      },
      "source": [
        "f = np.array([0.1,0.2,0.3])\n",
        "g = np.array([1,2,3])\n",
        "\n",
        "print(f.dot(g))\n",
        "print(np.dot(f,g))\n",
        "\n",
        "#print(g.inner(f)) # operacion no existente en NumPy\n",
        "print(np.inner(g,f))"
      ],
      "execution_count": null,
      "outputs": []
    },
    {
      "cell_type": "markdown",
      "metadata": {
        "id": "W4MmQnBDaxt6"
      },
      "source": [
        "**Ejercicio aplicado en DS**\n",
        "Se tiene una red neuronal sencilla(y simplificada) como la de la siguiente imagen:\n",
        "<img src=\"https://www.oreilly.com/library/view/practical-convolutional-neural/9781788392303/assets/246151fb-7893-448d-b9bb-7a87b387a24b.png\">\n",
        "\n",
        "Donde:\n",
        "* INPUT LAYER: un vector X de tamaño = 2 que representa los datos de entrada\n",
        "* HIDDEN_LAYER :capa oculta con 2 neuronas definidas por los vectores:\n",
        "    * HL1 = [0.25,0.37]\n",
        "    * HL2 = [-8,14]\n",
        "* OUTPUT_LAYER = capa de salida definida por el vector [4,9]\n",
        "\n",
        "Crear una funcion neural_network(X) para calcular:\n",
        "* Calcule la salida de cada neurona en la capa intermedia aplicada a la capa de entrada.\n",
        "* Use el resultado del paso anterior como entrada para la neurona en la capa de salida\n",
        "\n",
        "Asumiendo que cada neurona identifica la similitud entre su entrada y la caracteística que representa concluir:\n",
        "* Para cada vector de entrada Xi , cual neurona intermedia busca la característica que mas se parece a X.\n",
        "* Cual vector de entrada Xi produce una activación alta(salida alta) en la capa de salida."
      ]
    },
    {
      "cell_type": "code",
      "metadata": {
        "id": "L0ri-Ex4axt7"
      },
      "source": [
        "# Aplicar la red neuronal sobre los siguientes datos X\n",
        "\n",
        "X1 = np.array([0.50,0.72])\n",
        "X2 = np.array([-4,7])\n",
        "X3 = np.zeros_like(X2)\n",
        "x4 = np.ones_like(X1)\n",
        "X5 = np.random.randn(X1.shape[0])\n"
      ],
      "execution_count": null,
      "outputs": []
    },
    {
      "cell_type": "markdown",
      "metadata": {
        "id": "ChG4H50qaxt8"
      },
      "source": [
        "**Ejercicio aplicado en DS**: la correlación cruzada es una medida de similitud entre 2 funciones como resultado de \"desplazar\" una sobre la otra, comunmente es usada para encontrar características relevantes en una función desconocida o no controlada.\n",
        "\n",
        "En procesamiento de señales por ejemplo es usada para buscar y/o filtrar en una señal que varia en el tiempo cierta caracaterística de interés. Aveces es llamada también \"sliding dot product\" consiste en aplicar en cada punto de una función F el producto punto con cierta función G(comunmente mas corta) y luego \"deslizar\" G a un nuevo punto de la función, el resultado es una nueva función H que se interpreta como :**cuanto se parece** en cada punto la función F a la característica G. \n",
        "\n",
        "<img src=\"https://i.makeagif.com/media/11-25-2015/LZ9Ufj.gif\">\n",
        "\n",
        "En este ejercicio usamos correlación cruzada para calcular las medias moviles promediando 3 puntos que ya vimos en otro ejemplo:\n",
        "\n",
        "El primer paso es definir la función G que define el \"filtro\" a aplicar, para este caso consiste simplemente en un vector con 3 elementos donde cada elemento corresponde a 1/3, luego debemos aplicar el producto punto sobre cada punto de la función o datos originales(en este ejemplo llamados x) a traves aplicar el producto punto en cada elemento \"corriendolo\" de uno en uno"
      ]
    },
    {
      "cell_type": "code",
      "metadata": {
        "id": "SprJgc3-axt8"
      },
      "source": [
        "ruido = 0.1*np.random.randn(15) #el ruido comunmente se debe a aleatoriedad o captura no exacta de info.\n",
        "x = np.linspace(0,2*np.pi,15) \n",
        "y = np.sin(x) + ruido\n",
        "\n",
        "filtro = np.array([1/3,1/3,1/3]) #para lograr las medias moviles a traves de correlacion cruzada\n",
        "\n",
        "## tu codigo aqui (~ 3 linea de codigo)\n",
        "media_movil=np.convolve(ys,np.ones((longitud_filtro)),mode=\"same\")\n",
        "media_movil /= longitud_filtro\n",
        "\n",
        "    \n",
        "\n"
      ],
      "execution_count": null,
      "outputs": []
    },
    {
      "cell_type": "markdown",
      "metadata": {
        "id": "uFI8KNdLaxt9"
      },
      "source": [
        "### Constantes Numéricas importantes\n",
        "\n",
        "Tal como NumPy provee funciones matemáticas comunes como logaritmos y funciones trigonométricas ,también posee constantes usadas comunmente en problemas numéricos , por ejemplo:\n",
        "\n",
        "* **np.e** : constante de Euler, base de logaritmos naturales 2.71828...\n",
        "* **np.pi** :el conocido número pi 3.1415.....\n",
        "* **np.euler_gamma**: constante utilizada  por ejemplo en transformadas de Laplace , 0.5772....\n",
        "\n",
        "Además de algunas constantes útiles en Python para indicar por ejemplo: infinito positivo, negativo o si el resultado de una operación no es un número definido.\n",
        "\n",
        "* **np.inf**: infinito positivo\n",
        "* **np.NINF** :infinito negativo\n",
        "* **np.nan**: not a number\n",
        "\n",
        "\n",
        "https://docs.scipy.org/doc/numpy-1.15.0/reference/constants.html"
      ]
    },
    {
      "cell_type": "code",
      "metadata": {
        "id": "V5QnPDokaxt9"
      },
      "source": [
        "import numpy as np\n",
        "print(np.e)\n",
        "print(np.pi)\n",
        "print(np.euler_gamma)\n",
        "\n",
        "print(np.inf)\n",
        "print(np.NINF)\n",
        "print(np.nan)"
      ],
      "execution_count": null,
      "outputs": []
    },
    {
      "cell_type": "markdown",
      "metadata": {
        "id": "L0xkpg2paxt-"
      },
      "source": [
        "inf,NINF, y nan  se obtienen muchas veces al aplicar una operación matemática sobre cierto valor, por ejemplo logaritmos de números negativos es algo no definido por lo cual resulta en nan, o una división por 0 resulta en infinito.\n"
      ]
    },
    {
      "cell_type": "code",
      "metadata": {
        "id": "rBzHacgyaxt-"
      },
      "source": [
        "x = np.array([-5.3,-1,0,1,1.5,10,100])\n",
        "\n",
        "print(np.log(x))"
      ],
      "execution_count": null,
      "outputs": []
    },
    {
      "cell_type": "code",
      "metadata": {
        "id": "rzsJ4y8-axt_"
      },
      "source": [
        "numerador = np.array([5,4,9])\n",
        "divisor = np.array([5,0,8])\n",
        "\n",
        "numerador/divisor"
      ],
      "execution_count": null,
      "outputs": []
    },
    {
      "cell_type": "code",
      "metadata": {
        "id": "5Byun3IaaxuA"
      },
      "source": [
        "x  = np.array([0.1,0.2,5,-2, 7])\n",
        "\n",
        "print(np.sqrt(x))"
      ],
      "execution_count": null,
      "outputs": []
    },
    {
      "cell_type": "code",
      "metadata": {
        "id": "yvoXWU0SaxuC"
      },
      "source": [
        "np.inf <= 50"
      ],
      "execution_count": null,
      "outputs": []
    },
    {
      "cell_type": "code",
      "metadata": {
        "id": "ss21rYpfaxuD"
      },
      "source": [
        "np.inf >= 1000000"
      ],
      "execution_count": null,
      "outputs": []
    },
    {
      "cell_type": "code",
      "metadata": {
        "id": "2_RHeDnxaxuD"
      },
      "source": [
        "np.NINF < 0"
      ],
      "execution_count": null,
      "outputs": []
    },
    {
      "cell_type": "code",
      "metadata": {
        "id": "ubJMe2LUaxuE"
      },
      "source": [
        "-1*np.inf == np.NINF"
      ],
      "execution_count": null,
      "outputs": []
    },
    {
      "cell_type": "code",
      "metadata": {
        "id": "29zmNrZWaxuF"
      },
      "source": [
        "np.inf - 1"
      ],
      "execution_count": null,
      "outputs": []
    },
    {
      "cell_type": "code",
      "metadata": {
        "id": "1157khHXaxuH"
      },
      "source": [
        "np.inf/np.NINF"
      ],
      "execution_count": null,
      "outputs": []
    },
    {
      "cell_type": "code",
      "metadata": {
        "id": "2GrufXV3AUQt"
      },
      "source": [
        ""
      ],
      "execution_count": null,
      "outputs": []
    },
    {
      "cell_type": "markdown",
      "metadata": {
        "id": "80bTM6XbaxuJ"
      },
      "source": [
        "### Operadores lógicos en vectores\n",
        "\n",
        "Que pasa si necesitamos aplicar condiciones y validaciones al trabajar con vectores?\n",
        "\n",
        "Por ejemplo:\n",
        "$$h(x) = \\begin{cases}0 & x< 0\\\\1 & 0<=x <=1\\\\0 & x> 1\\end{cases}$$\n",
        "\n",
        "El siguiente código que refleja esta función da error.\n",
        "\n"
      ]
    },
    {
      "cell_type": "code",
      "metadata": {
        "id": "Bgo-PeXeaxuK"
      },
      "source": [
        "def h(x):\n",
        "    if x < 0:\n",
        "        return 0.0\n",
        "    elif 0 <= x <= 1:\n",
        "        return 1.0\n",
        "    else:\n",
        "        return 0.0\n",
        "    \n",
        "x = np.array([-1,0.1,10])\n",
        "\n",
        "#h(x)"
      ],
      "execution_count": null,
      "outputs": []
    },
    {
      "cell_type": "markdown",
      "metadata": {
        "id": "KZMQtzgcaxuK"
      },
      "source": [
        "Para resolver el problema anterior(entre otras cosas) NumPy provee el uso de operadores lógicos sobre tensores , estos se aplican \"elemento por elemento\" gracias al broadcasting, el resultado de estos es valores booleanos True o False para cada valor.\n",
        "\n",
        "Nuevamente **es importante hacer uso del broadcasting y no hacerlo con ciclos**"
      ]
    },
    {
      "cell_type": "code",
      "metadata": {
        "id": "uf03oDI_axuL"
      },
      "source": [
        "x = np.linspace(-2,2,9)\n",
        "\n",
        "y = x < 0\n",
        "\n",
        "print(x,y)\n",
        "print(len(x),len(y))"
      ],
      "execution_count": null,
      "outputs": []
    },
    {
      "cell_type": "code",
      "source": [
        "np.any(y)"
      ],
      "metadata": {
        "id": "w15st7y8Y11g"
      },
      "execution_count": null,
      "outputs": []
    },
    {
      "cell_type": "code",
      "source": [
        "np.all(y)"
      ],
      "metadata": {
        "id": "c_W-GCAOY-jZ"
      },
      "execution_count": null,
      "outputs": []
    },
    {
      "cell_type": "markdown",
      "metadata": {
        "id": "kDBjb0iVaxuM"
      },
      "source": [
        "### Usando vectores booleanos para acceder elementos en otros vectores\n",
        "\n",
        "NumPy nos permite acceder vectores con otros vectores de tipo booleano,el resultado de esto es obtener de cierto vector solo los elementos cuya posición corresponde a un valor True en el vector booleano,\n",
        "con la sintáxis que usabamos para hacer indexing, pero usando un vector booleano como índice\n",
        "por ejemplo para el caso anterior:"
      ]
    },
    {
      "cell_type": "code",
      "metadata": {
        "id": "hUvoXDqFEm9F"
      },
      "source": [
        "print(x,y)"
      ],
      "execution_count": null,
      "outputs": []
    },
    {
      "cell_type": "code",
      "metadata": {
        "id": "mqiThNeHGQ3z"
      },
      "source": [
        "x[y]"
      ],
      "execution_count": null,
      "outputs": []
    },
    {
      "cell_type": "code",
      "source": [
        "x[x<10]"
      ],
      "metadata": {
        "id": "gHzvAFxOZ7Bf"
      },
      "execution_count": null,
      "outputs": []
    },
    {
      "cell_type": "code",
      "metadata": {
        "id": "32xi0gZOaxuM"
      },
      "source": [
        "x[np.logical_not(y)]"
      ],
      "execution_count": null,
      "outputs": []
    },
    {
      "cell_type": "code",
      "metadata": {
        "id": "l4dTWbkVaxuN"
      },
      "source": [
        "x"
      ],
      "execution_count": null,
      "outputs": []
    },
    {
      "cell_type": "markdown",
      "metadata": {
        "id": "UXaDmGO_axuN"
      },
      "source": [
        "En este caso \"y\" es redundante y se pudo hacer:"
      ]
    },
    {
      "cell_type": "code",
      "metadata": {
        "id": "95J2dJeNaxuO"
      },
      "source": [
        "x[x<0]"
      ],
      "execution_count": null,
      "outputs": []
    },
    {
      "cell_type": "markdown",
      "metadata": {
        "id": "koxrhNtXaxuP"
      },
      "source": [
        "Explicación: el aplicar x < 0 generó un vector que tiene los primeros 4 elementos como True , si usamos este vector booleano como indice del vector original x entonces obtenemos solo los elementos de x que estan asociados a elementos True en el vector booleano de indice, en este caso solo los primeros 4."
      ]
    },
    {
      "cell_type": "markdown",
      "metadata": {
        "id": "bh2gGHN5axuP"
      },
      "source": [
        "**Ejercicio** dado el vector x, usar operadores lógicos sobre vectores y acceso a  elementos usando vectores booleanos , escribir un programa que calcule eun nuevo vector z conteniendo el valor absoluto de el vector x.\n",
        "\n",
        "**nota** No se puede usar np.abs() ni ciclos\n",
        "\n",
        "**tip** usar un vector booleano para saber que elementos son negativos y deben ser multiplicados por -1"
      ]
    },
    {
      "cell_type": "code",
      "metadata": {
        "id": "_dDKWFiGaxuQ"
      },
      "source": [
        "x = np.linspace(-2,2,9)\n",
        "\n",
        "\n",
        "## tu codigo aqui (~ 4 linea de codigo)\n",
        "### ver cuales elementos son negativos <- vector booleanos\n",
        "### multiplicar esos elementos por -1\n",
        "### usando el vector del rpimer paso remplazar los que eran negativos por su valor calculado en paso 2\n",
        "\n"
      ],
      "execution_count": null,
      "outputs": []
    },
    {
      "cell_type": "markdown",
      "metadata": {
        "id": "Vs8b8-MSaxuQ"
      },
      "source": [
        "**ejercicio** Implementar la función:\n",
        "$$h(x) = \\begin{cases}0 & x< 0\\\\1 & 0<=x <=1\\\\0 & x> 1\\end{cases}$$\n",
        "\n",
        "Esta debe funcionar para vectores de cualquier tamaño x:\n",
        "\n",
        "def h(x):\n",
        "\n",
        "    ...\n",
        "\n",
        "**nota** debe ser implementada sin ciclos o ifs "
      ]
    },
    {
      "cell_type": "code",
      "metadata": {
        "id": "5owYOClVaxuR",
        "colab": {
          "base_uri": "https://localhost:8080/"
        },
        "outputId": "e7c7c500-4653-4485-d510-b591d6991cc3"
      },
      "source": [
        "def h(x):\n",
        "  lista_condiciones=[x<0,[(x>=0) & (x<=1)],(x>1)]\n",
        "  lista_operaciones=[0,1,0]\n",
        "  h = (np.select(lista_condiciones, lista_operaciones, 0))\n",
        "  return h\n",
        "\n",
        "x = np.array([0.1,-2,0.5,5])\n",
        "print(h(x))"
      ],
      "execution_count": 92,
      "outputs": [
        {
          "output_type": "stream",
          "name": "stdout",
          "text": [
            "[[1 0 1 0]]\n"
          ]
        }
      ]
    },
    {
      "cell_type": "markdown",
      "metadata": {
        "id": "D6JxNhOBaxuR"
      },
      "source": [
        "Para casos donde se requiere comportamiento parecido a este pero con mas condiciones, NumPy provee la función **np.select** , la descripción de esta función casi siempre es mas complicada de lo que debería y dificulta entenderla, vamos a buscar entenderla bajo un ejemplo.\n",
        "\n",
        "Básicamente select se basa en :\n",
        "* una lista de condiciones A\n",
        "* una lista de valores a tomar según estas condiciones B\n",
        "* un valor de  resultado default cuando ninguna de las condiciones en la  lista se cumple.\n",
        "Estas 2 listas deben ser del mismo tamañaño."
      ]
    },
    {
      "cell_type": "code",
      "metadata": {
        "id": "i0tymEaCaxuR",
        "colab": {
          "base_uri": "https://localhost:8080/"
        },
        "outputId": "ee8701ee-4ef8-4679-8198-8c22102e82fd"
      },
      "source": [
        "x = np.arange(10)\n",
        "condiciones = [x<3 , x>5] #lista A \n",
        "resultados =  [x,    x**2] #lista B\n",
        "\n",
        "print(x)\n",
        "#los valores de x que no satisfacen ningúna condicion obtendran 0 como resultado(este es el valor default)\n",
        "np.select(condiciones,resultados) "
      ],
      "execution_count": 93,
      "outputs": [
        {
          "output_type": "stream",
          "name": "stdout",
          "text": [
            "[0 1 2 3 4 5 6 7 8 9]\n"
          ]
        },
        {
          "output_type": "execute_result",
          "data": {
            "text/plain": [
              "array([ 0,  1,  2,  0,  0,  0, 36, 49, 64, 81])"
            ]
          },
          "metadata": {},
          "execution_count": 93
        }
      ]
    },
    {
      "cell_type": "code",
      "metadata": {
        "id": "yOlyNLKcaxuS",
        "colab": {
          "base_uri": "https://localhost:8080/"
        },
        "outputId": "7ee003c4-d1dd-434d-c217-8eb6e026b590"
      },
      "source": [
        "np.select(condiciones,resultados,-1) #podemos agregar un tercer parámetro para el valor default "
      ],
      "execution_count": 94,
      "outputs": [
        {
          "output_type": "execute_result",
          "data": {
            "text/plain": [
              "array([ 0,  1,  2, -1, -1, -1, 36, 49, 64, 81])"
            ]
          },
          "metadata": {},
          "execution_count": 94
        }
      ]
    },
    {
      "cell_type": "code",
      "metadata": {
        "id": "3OYZuzkMIvB3"
      },
      "source": [
        "condiciones = [x<3]\n",
        "resultados = [2]\n",
        "\n",
        "np.select(condiciones,resultados)"
      ],
      "execution_count": null,
      "outputs": []
    },
    {
      "cell_type": "markdown",
      "metadata": {
        "id": "H_z8MsvIaxuT"
      },
      "source": [
        "Otro ejemplo"
      ]
    },
    {
      "cell_type": "code",
      "metadata": {
        "id": "O_Oc9XXKaxuT",
        "colab": {
          "base_uri": "https://localhost:8080/"
        },
        "outputId": "0fb0556d-b311-480b-c209-4d3211a269d8"
      },
      "source": [
        "x = np.linspace(1,10,10)\n",
        "condiciones = [x<4,x>=7]\n",
        "resultados =  [x ,  x**2]\n",
        "k = np.select(condiciones,resultados,-1)\n",
        "\n",
        "print(x)\n",
        "print(k)"
      ],
      "execution_count": 91,
      "outputs": [
        {
          "output_type": "stream",
          "name": "stdout",
          "text": [
            "[ 1.  2.  3.  4.  5.  6.  7.  8.  9. 10.]\n",
            "[  1.   2.   3.  -1.  -1.  -1.  49.  64.  81. 100.]\n"
          ]
        }
      ]
    },
    {
      "cell_type": "markdown",
      "metadata": {
        "id": "yhrWu8q0axuU"
      },
      "source": [
        "**Ejercicio**\n",
        "\n",
        "Usando select implementar una función k(x) con la siguiente definición:\n",
        "$$k(x) = \\begin{cases}-x & x< 0\\\\x^{3}  &0<=x<1\\\\x^{2}  &1<=x<2\\\\4  &otherwise\\end{cases}$$\n",
        "\n"
      ]
    },
    {
      "cell_type": "code",
      "source": [
        "def funcion_select (x):\n",
        "  lista_condiciones=[x<0,[(x>=0) & (x<1)],[(x>=1) & (x<2)],[x>=2]]\n",
        "  lista_operaciones=[-x,x**3,x**2,4]\n",
        "  condicionales_aplicados= (np.select(lista_condiciones, lista_operaciones, 0))\n",
        "  return (condicionales_aplicados)"
      ],
      "metadata": {
        "id": "YiGhCY5wgXRX"
      },
      "execution_count": 87,
      "outputs": []
    },
    {
      "cell_type": "code",
      "source": [
        "prueba = np.array([-1,0.5,1.5,2.5,6,-2-5])\n",
        "funcion_select(prueba)"
      ],
      "metadata": {
        "colab": {
          "base_uri": "https://localhost:8080/"
        },
        "id": "uLr_KKft_lPi",
        "outputId": "852505a7-ad16-42ad-8a66-0900a8492fac"
      },
      "execution_count": 90,
      "outputs": [
        {
          "output_type": "execute_result",
          "data": {
            "text/plain": [
              "array([[1.   , 0.125, 2.25 , 4.   , 4.   , 7.   ]])"
            ]
          },
          "metadata": {},
          "execution_count": 90
        }
      ]
    },
    {
      "cell_type": "markdown",
      "metadata": {
        "id": "oO-8WZXCaxuV"
      },
      "source": [
        "##### Select y performance\n",
        "Aun que select es muy conveniente y útil , no es la opción mas eficiente esto debido a que evalua todas las condiciones y todos los resultados, en programación en general buscamos escribir los programas de la manera mas eficiente posible y evitar calculos innecesarios, esto se vuelve vital en ciencia de datos cuando procesamos grandes volúmenes de información, por eso NumPy nos provee la alternativa a select llamada **piecewise** que funciona de manera similar .\n",
        "\n",
        "\n",
        "Este funciona similar a select pero en vez de calcular todos los posibles resultados, calcula solo aquellos para los que la condición es True e ignora los False,sintácticamente piecewise requiere que los \"resultados\" sesan calcuados usando una lista de funciones por lo cual todos los resultados deben estar contenidos en una función  y el objeto función ser enviado a piecewise (si la función solo se utiliza una vez para este propósito, se puede usar funciones anónimas o lambda).\n",
        "\n",
        "**Ejercicio** \n",
        "Investigar piecewise y:\n",
        "*  Usarlo para implementar la función anterior de manera eficiente\n",
        "*  Usar piscewise para implementar la función:\n",
        "\n",
        "$$m(x) = \\begin{cases}e^{2x} & x< 0\\\\1  &0<=x<1\\\\e^{1-x}  &x>=1\\\\\\end{cases}$$\n",
        "\n",
        "Nuevamente, sin utilizar ciclos ni ifs"
      ]
    },
    {
      "cell_type": "code",
      "source": [
        "#piecewise\n",
        "def funcion1_piecewise (x):\n",
        "  from math import e\n",
        "  piecewise = np.piecewise(\n",
        "      x,\n",
        "      [x<0,((x>=0)&(x<1)),x>=1],\n",
        "      [(e**(2*x)),1,(e**(1-x))],\n",
        "      0,\n",
        "      0\n",
        "      )\n",
        "  return piecewise\n",
        "\n",
        "prueba2= np.linspace(-5, 5, 10)\n",
        "print(prueba2)\n",
        "funcion1_piecewise (prueba2)\n",
        "  "
      ],
      "metadata": {
        "id": "6RmH5rr4h7h8",
        "colab": {
          "base_uri": "https://localhost:8080/",
          "height": 432
        },
        "outputId": "cef840b6-91e9-44fe-b876-0d74e507f2ed"
      },
      "execution_count": 123,
      "outputs": [
        {
          "output_type": "stream",
          "name": "stdout",
          "text": [
            "[-5.         -3.88888889 -2.77777778 -1.66666667 -0.55555556  0.55555556\n",
            "  1.66666667  2.77777778  3.88888889  5.        ]\n"
          ]
        },
        {
          "output_type": "error",
          "ename": "ValueError",
          "evalue": "ignored",
          "traceback": [
            "\u001b[0;31m---------------------------------------------------------------------------\u001b[0m",
            "\u001b[0;31mValueError\u001b[0m                                Traceback (most recent call last)",
            "\u001b[0;32m<ipython-input-123-0f8297f5d21e>\u001b[0m in \u001b[0;36m<module>\u001b[0;34m()\u001b[0m\n\u001b[1;32m     13\u001b[0m \u001b[0mprueba2\u001b[0m\u001b[0;34m=\u001b[0m \u001b[0mnp\u001b[0m\u001b[0;34m.\u001b[0m\u001b[0mlinspace\u001b[0m\u001b[0;34m(\u001b[0m\u001b[0;34m-\u001b[0m\u001b[0;36m5\u001b[0m\u001b[0;34m,\u001b[0m \u001b[0;36m5\u001b[0m\u001b[0;34m,\u001b[0m \u001b[0;36m10\u001b[0m\u001b[0;34m)\u001b[0m\u001b[0;34m\u001b[0m\u001b[0;34m\u001b[0m\u001b[0m\n\u001b[1;32m     14\u001b[0m \u001b[0mprint\u001b[0m\u001b[0;34m(\u001b[0m\u001b[0mprueba2\u001b[0m\u001b[0;34m)\u001b[0m\u001b[0;34m\u001b[0m\u001b[0;34m\u001b[0m\u001b[0m\n\u001b[0;32m---> 15\u001b[0;31m \u001b[0mfuncion1_piecewise\u001b[0m \u001b[0;34m(\u001b[0m\u001b[0mprueba2\u001b[0m\u001b[0;34m)\u001b[0m\u001b[0;34m\u001b[0m\u001b[0;34m\u001b[0m\u001b[0m\n\u001b[0m\u001b[1;32m     16\u001b[0m \u001b[0;34m\u001b[0m\u001b[0m\n",
            "\u001b[0;32m<ipython-input-123-0f8297f5d21e>\u001b[0m in \u001b[0;36mfuncion1_piecewise\u001b[0;34m(x)\u001b[0m\n\u001b[1;32m      7\u001b[0m       \u001b[0;34m[\u001b[0m\u001b[0;34m(\u001b[0m\u001b[0me\u001b[0m\u001b[0;34m**\u001b[0m\u001b[0;34m(\u001b[0m\u001b[0;36m2\u001b[0m\u001b[0;34m*\u001b[0m\u001b[0mx\u001b[0m\u001b[0;34m)\u001b[0m\u001b[0;34m)\u001b[0m\u001b[0;34m,\u001b[0m\u001b[0;36m1\u001b[0m\u001b[0;34m,\u001b[0m\u001b[0;34m(\u001b[0m\u001b[0me\u001b[0m\u001b[0;34m**\u001b[0m\u001b[0;34m(\u001b[0m\u001b[0;36m1\u001b[0m\u001b[0;34m-\u001b[0m\u001b[0mx\u001b[0m\u001b[0;34m)\u001b[0m\u001b[0;34m)\u001b[0m\u001b[0;34m]\u001b[0m\u001b[0;34m,\u001b[0m\u001b[0;34m\u001b[0m\u001b[0;34m\u001b[0m\u001b[0m\n\u001b[1;32m      8\u001b[0m       \u001b[0;36m0\u001b[0m\u001b[0;34m,\u001b[0m\u001b[0;34m\u001b[0m\u001b[0;34m\u001b[0m\u001b[0m\n\u001b[0;32m----> 9\u001b[0;31m       \u001b[0;36m0\u001b[0m\u001b[0;34m\u001b[0m\u001b[0;34m\u001b[0m\u001b[0m\n\u001b[0m\u001b[1;32m     10\u001b[0m       )\n\u001b[1;32m     11\u001b[0m   \u001b[0;32mreturn\u001b[0m \u001b[0mpiecewise\u001b[0m\u001b[0;34m\u001b[0m\u001b[0;34m\u001b[0m\u001b[0m\n",
            "\u001b[0;32m<__array_function__ internals>\u001b[0m in \u001b[0;36mpiecewise\u001b[0;34m(*args, **kwargs)\u001b[0m\n",
            "\u001b[0;32m/usr/local/lib/python3.7/dist-packages/numpy/lib/function_base.py\u001b[0m in \u001b[0;36mpiecewise\u001b[0;34m(x, condlist, funclist, *args, **kw)\u001b[0m\n\u001b[1;32m    610\u001b[0m     \u001b[0;32mfor\u001b[0m \u001b[0mcond\u001b[0m\u001b[0;34m,\u001b[0m \u001b[0mfunc\u001b[0m \u001b[0;32min\u001b[0m \u001b[0mzip\u001b[0m\u001b[0;34m(\u001b[0m\u001b[0mcondlist\u001b[0m\u001b[0;34m,\u001b[0m \u001b[0mfunclist\u001b[0m\u001b[0;34m)\u001b[0m\u001b[0;34m:\u001b[0m\u001b[0;34m\u001b[0m\u001b[0;34m\u001b[0m\u001b[0m\n\u001b[1;32m    611\u001b[0m         \u001b[0;32mif\u001b[0m \u001b[0;32mnot\u001b[0m \u001b[0misinstance\u001b[0m\u001b[0;34m(\u001b[0m\u001b[0mfunc\u001b[0m\u001b[0;34m,\u001b[0m \u001b[0mcollections\u001b[0m\u001b[0;34m.\u001b[0m\u001b[0mabc\u001b[0m\u001b[0;34m.\u001b[0m\u001b[0mCallable\u001b[0m\u001b[0;34m)\u001b[0m\u001b[0;34m:\u001b[0m\u001b[0;34m\u001b[0m\u001b[0;34m\u001b[0m\u001b[0m\n\u001b[0;32m--> 612\u001b[0;31m             \u001b[0my\u001b[0m\u001b[0;34m[\u001b[0m\u001b[0mcond\u001b[0m\u001b[0;34m]\u001b[0m \u001b[0;34m=\u001b[0m \u001b[0mfunc\u001b[0m\u001b[0;34m\u001b[0m\u001b[0;34m\u001b[0m\u001b[0m\n\u001b[0m\u001b[1;32m    613\u001b[0m         \u001b[0;32melse\u001b[0m\u001b[0;34m:\u001b[0m\u001b[0;34m\u001b[0m\u001b[0;34m\u001b[0m\u001b[0m\n\u001b[1;32m    614\u001b[0m             \u001b[0mvals\u001b[0m \u001b[0;34m=\u001b[0m \u001b[0mx\u001b[0m\u001b[0;34m[\u001b[0m\u001b[0mcond\u001b[0m\u001b[0;34m]\u001b[0m\u001b[0;34m\u001b[0m\u001b[0;34m\u001b[0m\u001b[0m\n",
            "\u001b[0;31mValueError\u001b[0m: NumPy boolean array indexing assignment cannot assign 10 input values to the 5 output values where the mask is true"
          ]
        }
      ]
    },
    {
      "cell_type": "markdown",
      "metadata": {
        "id": "AZnrBQW6axuV"
      },
      "source": [
        "#### Investigar\n",
        "\n",
        "* Proyección vectorial\n",
        "    * Definir una función para calculo en numpy\n",
        "    * interpretación\n",
        "    * aplicación o caso de uso en DS u otras ciencias de tu interés: solo se necesita nombrar el caso de uso, no desarrollarlo o programarlo, tip: Hay un algoritmo de ML cuyo nombre puede ser  útil.\n",
        "* Producto cruz\n",
        "    * calculo en numpy\n",
        "    * interpretación\n",
        "    * aplicación o caso de uso en DS u otras ciencias de tu interés: solo se necesita nombrar el caso de uso, no desarrollarlo o programarlo\n",
        "    \n",
        "#### Referencias\n",
        "\n",
        "* https://www.oreilly.com/library/view/data-science-from/9781491901410/ch04.html\n",
        "* https://towardsdatascience.com/linear-algebra-cheat-sheet-for-deep-learning-cd67aba4526c\n",
        "* https://www.analyticsvidhya.com/blog/2017/05/comprehensive-guide-to-linear-algebra/\n",
        "* https://towardsdatascience.com/boost-your-data-sciences-skills-learn-linear-algebra-2c30fdd008cf\n",
        "* https://machinelearningmastery.com/examples-of-linear-algebra-in-machine-learning/\n",
        "* https://www.youtube.com/playlist?list=PLZHQObOWTQDPD3MizzM2xVFitgF8hE_ab"
      ]
    },
    {
      "cell_type": "markdown",
      "source": [
        "### **Proyección vectorial:**"
      ],
      "metadata": {
        "id": "tGMjEScneXNa"
      }
    },
    {
      "cell_type": "markdown",
      "source": [
        "Un vector se puede proyectar sobre otro vector o sobre un plano.\n",
        "Coloquialmente, podríamos explicarlo como la \"sombra\" que un vector proyectaría sobre otro vector o sobre un plano.\n",
        "Representándolo gráficamente, tenemos el vector **u** y el **v**, como aparecen abajo. Ambos se unen formando un ángulo alfa (α).\n",
        "\n",
        "![proyeccion-vectores-1.png](data:image/png;base64,iVBORw0KGgoAAAANSUhEUgAAAOUAAACNCAIAAADHDCp2AAAAAXNSR0IArs4c6QAAAARnQU1BAACxjwv8YQUAAAAJcEhZcwAADsMAAA7DAcdvqGQAAAhESURBVHhe7dzdaxNpFMfx/UP2qlkQX7A3VoQW1lKkW4WCCFYbEFFbEBGpSO2N2oIUIlYawbdK8KIiBi9CQSk0ggQxKF0kQi9M6oXihWjd1lewVcweMschniaTmUzm5Zn5fThInjmT8eZLNuvbH0UAdaBXUAl6BZWgV1AJegWVoFdQCXoFlaBXUAl6BZWgV1f9/c+/YngB5qBXB4k0qw3fDSagV6eIKA2G3wAmoFcHiS6rDd8NJqBXl4hG9eE1mINeHScCLR++A0xDr85aHWj5a7AKvTpF71IfcVG7DSxBr44o71JPc/UVsEr5XjOZzPj4OB98oDxKbVZf165AHYLw+ZpMJuPxOB+8U16kNrwoqXgRrArI94GxsbFYLLa8vMxn1+k56sOLX6pdB0t83evU1NSkOcPDw5FIpLOzc3p6mt/sFj1EfXgBDvB7r5t/19LSwq9K9CPFqolGo7lcjt/vPJTqsoB8H0in0xs2bEgkEnx2niiVhhfgpCD0urS01N3dPT8/z2fnoVSvBKHX/v7+QqHAB4eJUml4Aa5QvtdsNpvP5/ngJJEpDS/ARQH5/uo0lOoT6LUGUSoNL8AL6NUISvUb9FqZKJWGF+Ap9CqJTGl4AT6AXn+DUn1OmV5TqVQsFjt48ODIyAhfKhYfPHjQ3t4+MzPDZxtEqTS8AD9R6fM1k8k0NTXdu3ePz8Xi4OBgJBL58OEDn+uFUlWhUq+XL1+mXhcWFrTj4uLi2rVre3t7tWN9RKk0vABfUqnXAwcO7Ny5kw/F4sTEBOVb918uEJnS8AJ8TJleV1ZWNm7cODo6qh3fv3+vfdxms1ntiiUoVVHK9Epd0lfV+/fva0cKd2BggAr+8eOHdsUkUSoNL0AFyvQaj8ep148fP9LrmZmZx48fb9my5dChQ9rWJJSqOmV63bdvX09PD72Yn5+/cuXK3Nwc5av9AW0zf9lQlErDC1CKMr1u2rTp6NGj6XT65MmTdEylUtTr7Ozs0NCQdoMBlBoYyvRK/+nv6uq6ePGidszlch0dHYcPH15cXNSuVCRKpeEFqEmZXq0SmdLwAlQWzF5RalAFrVdRKg0vIBAC1StKDbyA9CpKpeEFBIvyvYpMaXgBQaR2ryg1bFTtVZRKwwsINCV7RamhpVivolQaXkA4KNOryJSGFxAmavSKUkHj915FqTS8gFDyda8oFQSf9ipKpeEFhJvvehWZ0vACwG+9ilJpeAFQ4pdeRaY0vAAo44teUSqY5HGvolQaXgBU4mWvKBWs8qZXUSoNLwAMud2ryJSGFwAmuNorSgWbXOpVlErDCwAr3OgVpUKjONurKPW/P//ShtcAFjnVqyiVRo9VH77V0OTk5LFjxxKJRDQazWQydOXs2bMnTpyYnZ3VboBQcaRXUSpfLRZFrzS8qCSfz/f09Jw7d047UqDNzc2vX7+mH838m4QQSA3uVZRKw4syJnulWPfv38+HktbW1uvXr69Zs+bly5d8CUKmkb3WLFVXM1ntX9PW//V3TVdXF128cOECnyF8GtOrKJWGF9UZ97p169Zdu3bxoeTbt2/r1q1ra2v7+vUrX4LwsduryJSGF7Xova5OtlAo0Ofo4OAgn0vS6TRdvHnzJp8hlGz1Kkql4YU51XrV0rx69SqfS/bu3UsX8c015OrsVWRKwwsrqvX69OlTSvPGjRt8LhYTiUR7e3tLS8ujR4/evn2r/cIWhFA9vdovVVOtV7J9+/bjx49rr+njdtu2bfl8fseOHaOjo6dPn9auQwhZ61WUSsOLuhj0+vz5876+Pq3Oa9eu/fz5ky5eunRpz5499Omr3QMhZKHXBpZK9Fgr9gpQkaleRak0vLABsUIdavfa8FKJHit6BUtq9CpiNR5+Ty2IFepm+fO1vuFnlaBXqJuF/9/SiRatjh4rveYnAphTT6/VlEdpf/ihAGUa2asB0aLN4YdC+LjUqwHRop3hJ0Jwed9rNaJFm8MPBcX5t1cDokWbww8FFSjZqwHRop3hJ4KfBK3XakSLNocfCq4LS68GRIs2hx8KzkCvRkSLdoafCPag13qIFm0OPxRMQK8NJlq0OfxQ+AW9uke0aGf4ieGDXr0nWrQ5/NCAQq++Jlq0OfxQlaFXVYkW7Qw/0S12flL0GjR6hQ0Zfmjj2Hw+evWXTCYzPj7Oh0YTrdgcfqh1dp6DXn0nmUzG43E+uEU0ZGf4iYbEW2h4UQt69aOxsbFYLLa8vMxn74iqbA4/9BexpeFFdejVPVNTU5PmDA8PNzU1dXZ2Tk9P85v9R6TWwOGfoBL06h7qdbM5kUiEeqUfo9FoLpfj96tD9FfH8INWQa9+lE6n169fn0gk+BwUIkrj4ff8Dr36ztLSUnd394sXL/gcRCLNisO3/g69+k5/f3+hUOBD4IgoVw/fVwV69ZdsNpvP5/kQOCJNfXhtAnoFV9XRaDn0CipBr6AS9AoqQa+gEvTqmZWVlWfPnqVSKT4XiwsLC37+DVg/QK/euHv3bjKZjEQifX19fKn0J7Poyu3bt/kMq6BXLw0NDbW2tvKhZGBgAL0aQK9eunXrFn2gvnnzhs/F4pkzZ4L9O7E2oVcvPXz4kHp98uSJdvz+/fupU6e011ARevUSfZRSr3fu3NGOExMTr1690l5DRejVS58+faJeKVN6PTc3V/5rBVARevVYc3Pz+fPnv3z5Qt9c+RJUh1491tbWNjIycuTIET6DIfTqsY6Ojt27d3/+/JnPYAi9eqy3t/fdu3d8gFrQK6gEvYJK0CuoBL2CStArqAS9gkrQK6gEvYJK0CuoBL2CStArqAS9gkrQK6gEvYI6isX/AQYMfWXKJykeAAAAAElFTkSuQmCC)\n",
        "\n",
        "Fuente: https://ekuatio.com/\n",
        "\n",
        "Al trazar una recta perpendicular desde el punto en donde finaliza el vector u hasta tocar al vector v se tendría el punto al cual llegaría la proyección de u sobre v.\n",
        "\n",
        "![proyeccion-vectores-2.png](data:image/png;base64,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)\n",
        "\n",
        "Fuente: https://ekuatio.com/\n",
        "\n",
        "Ahora, al trazar un nuevo vector que iría del origen de ambos (u y v) hasta el punto en donde la línea perpendicular que trazamos toca al vector v obtendríamos el vector proyectado.\n",
        "\n",
        "![proyeccion-vectores-3.png](data:image/png;base64,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)\n",
        "\n",
        "Fuente: https://ekuatio.com/\n",
        "\n",
        "Esto, dependiendo de el ángulo entre ambos vectores, podría generar una proyección hacia la dirección contraria del vector sobre el cual se está proyectando.\n",
        "\n",
        "![proyeccion-vectores-7.png](data:image/png;base64,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)\n",
        "Fuente: https://ekuatio.com/\n",
        "\n",
        "Para calcular la proyección del vector u sobre el vector v se utiliza la fórmula siguiente:\n",
        "![quicklatex.com-88bbab4b50b8b737fe3ee634b2a9e23d_l3.png](data:image/png;base64,iVBORw0KGgoAAAANSUhEUgAAAMYAAAAnBAMAAACmrSpJAAAABGdBTUEAALGPC/xhBQAAACBjSFJNAAB6JgAAgIQAAPoAAACA6AAAdTAAAOpgAAA6mAAAF3CculE8AAAACXBIWXMAAA7EAAAOxAGVKw4bAAAAB3RJTUUH4wscFjUSeDh2hgAAADBQTFRF////AAAAAAAAAAAAAAAAAAAAAAAAAAAAAAAAAAAAAAAAAAAAAAAAAAAAAAAAAAAAL92gewAAAA90Uk5TABAiMkRUZnaJmau7zd3vjjpLhQAAAAFiS0dEAIgFHUgAAAPmSURBVEjH7ZZLbBtVFIa/O576MbYz4+yyQBksJBY8PF0VdePZIVGBvWLBorFExTZG7JAgropUhIQ6Ui2hNKHxNqQSRkgQHlLMhvIQxO2mPJQqSF2wwXHiOHGwwSzujGPHnjxQIzb8m3t07zn317nn3P9eeJh47MD40JFIJJ4y+8ZTgPLD2tqGsz+eFr4+MB4bgdyw5QPrwHgEzvSsC55R4aq/v3gnxwsAE5/wtN23EPOPWcl653zHm7pNzPb114J13gcoTZMq9HPkfWO+7PlkgUdqtVqtayvrvv7ntCq/AIH8LcLutuJ+rVbb2D760C4CKMlk8vFdWPZ1M/S82AEEuwS9dJPJZHImfzTHPc8YsyFj+PplTHULQN0i3D//4BhdtdmrKjDm31k3CdcNILJOZCDBoznC1YHKVnwdvyBWflWAVua1oU2WzJfmTG58FFp0gAuffQyE5r1TjJeA88sQKQOhui/Hu0w7zmSFUDXgtdX5ZbgF8GLsdi64Gcz++lZ4B6J3SdtwXW24fnoOFCdjoZeBQMO/eRdf/s6KOzDv3SLFyVh0baAcayJaGhu5sQb8aBCtEsyrO65jyoaIMWOTKQBKU/ZaV6J96DFHjBmbaQtESa8iOhOigzAINUHbIkpo2xXptAURVuCaDQhJLZISjx7OwYqBbgBmuoD617i6C5CqQ2wbheimK9JTJoyLNqwC0Bq1WXckEKLtScmMTbBNuAGw4MBYA9ArrkhPm0CwCR0A9k7AQbAJE1KZDLRdYnWA1Syk60C64Ir0lAlE6wRa/nkM4/UlS4ZxCYAO6JvoFYANExYKMjkp0mkLGKsS2hYGIOsxdaDmZ+FsvxnKnmkAehVKAIEWTOVl27AK/AGw4ol0ygYmS0Q3wwaI5siaF6Eo29UuQpG4xc8yLJAHCO3Bmts2zJhuYTqeSOt5QHdIrWuAOvp+SA6RSIzfLUKRaI7vZVjUAIj+aWhlr23iDm/agNryRDpeAqIVsbT+rP89lxxPrq3d3/NS2gW0KtelnN5Z/BT4VnrfmLsMEN72RDpSBcTSbOLzgr9e9c4qlnPN8G8A87Pyg5Ia9YeI1T2RDmz1z/vobo8j4JnPD/x+prMjgiZLPZH+aeCRwJ9DzOWUBy5H4KuB9Q+H/luixjWrJ9IX+5eWD+HQgnWl5XI8MfiG/D0UobbVJngiHevL0+89L0KRc1qFq9JU7r3ydt/yQvf3oZDZDyzwRFrpe6Ti9iEchp7nkjTj3e7Oif5wz+2b73EIBxmTwn75TwT16H+i3PgmOP+S4xiQGy8Rsk6b4w2e4bQ5It/kT53joPk/x3/FcQWuDJse/gHWb3U+Fydj9gAAACJ0RVh0Y29tbWVudABSZW5kZXJlZCBieSBRdWlja0xhVGVYLmNvbSBJ0LYAAAAldEVYdGRhdGU6Y3JlYXRlADIwMTktMTEtMjhUMjI6NTM6MTgrMDk6MDBYp85NAAAAJXRFWHRkYXRlOm1vZGlmeQAyMDE5LTExLTI4VDIyOjUzOjE4KzA5OjAwKfp28QAAAABJRU5ErkJggg==)\n",
        "\n"
      ],
      "metadata": {
        "id": "5-zGYy3DePf7"
      }
    },
    {
      "cell_type": "code",
      "metadata": {
        "id": "WOvGrxveKtkk",
        "colab": {
          "base_uri": "https://localhost:8080/",
          "height": 300
        },
        "outputId": "9cfba318-75f8-4d90-e6b4-ce55acc60744"
      },
      "source": [
        "#Ejemplo. Proyección vectorial\n",
        "import numpy as np \n",
        "import matplotlib.pyplot as plt\n",
        "\n",
        "#tenemos los vectores siguientes:\n",
        "u=np.array([8,8])\n",
        "v=np.array([10,0])\n",
        "\n",
        "#los graficamos para una mejor visualización\n",
        "plt.quiver([0,0],[0,0],[u[0],v[0]],[u[1],v[1]],scale_units=\"xy\",angles=\"xy\",scale=1)\n",
        "plt.xlim(0,20)\n",
        "plt.ylim(0,20)\n",
        "plt.axvline(x=8,color=\"grey\",linestyle=\"--\", alpha=0.8)\n",
        "plt.xlabel('x')\n",
        "plt.ylabel('y')"
      ],
      "execution_count": null,
      "outputs": [
        {
          "output_type": "execute_result",
          "data": {
            "text/plain": [
              "Text(0, 0.5, 'y')"
            ]
          },
          "metadata": {},
          "execution_count": 72
        },
        {
          "output_type": "display_data",
          "data": {
            "text/plain": [
              "<Figure size 432x288 with 1 Axes>"
            ],
            "image/png": "[encoded data removed]"
          },
          "metadata": {
            "needs_background": "light"
          }
        }
      ]
    },
    {
      "cell_type": "code",
      "metadata": {
        "id": "Jx5HVYx7-Ru0",
        "colab": {
          "base_uri": "https://localhost:8080/"
        },
        "outputId": "f274b24e-fda2-42cc-c9f6-126852cf78a7"
      },
      "source": [
        "#Determinamos la proyección del vector u sobre el vector v\n",
        "producto_punto=u.dot(v)\n",
        "magnitud_v = v.dot(v) #la magnitud del vector v al cuadrado\n",
        "proyec_u_v=((producto_punto/magnitud_v)*v)\n",
        "print(proyec_u_v)"
      ],
      "execution_count": null,
      "outputs": [
        {
          "output_type": "stream",
          "name": "stdout",
          "text": [
            "[8. 0.]\n"
          ]
        }
      ]
    },
    {
      "cell_type": "code",
      "source": [
        "proyec_u_v.shape"
      ],
      "metadata": {
        "colab": {
          "base_uri": "https://localhost:8080/"
        },
        "id": "7lF_JBm8ec8h",
        "outputId": "69ce71e1-a4da-43e4-fb97-e68a6b7f3c84"
      },
      "execution_count": null,
      "outputs": [
        {
          "output_type": "execute_result",
          "data": {
            "text/plain": [
              "(2,)"
            ]
          },
          "metadata": {},
          "execution_count": 74
        }
      ]
    },
    {
      "cell_type": "code",
      "source": [
        "#los graficamos nuevamente para una mejor visualización\n",
        "plt.quiver([0,0,0],[0,0,0],[u[0],v[0],proyec_u_v[0]],[u[1],v[1],proyec_u_v[1]],scale_units=\"xy\",angles=\"xy\",scale=1)\n",
        "plt.xlim(0,20)\n",
        "plt.ylim(0,20)\n",
        "plt.axvline(x=8,color=\"grey\",linestyle=\"--\", alpha=0.8)\n",
        "plt.xlabel('x')\n",
        "plt.ylabel('y')\n",
        "\n",
        "#vemos ahora que el nuevo vector \"proyec_u_v\" aparece ya en la gráfica"
      ],
      "metadata": {
        "colab": {
          "base_uri": "https://localhost:8080/",
          "height": 300
        },
        "id": "hKkABWoBeeVZ",
        "outputId": "1a766a64-bb39-42f6-b1a8-5e201b41751e"
      },
      "execution_count": null,
      "outputs": [
        {
          "output_type": "execute_result",
          "data": {
            "text/plain": [
              "Text(0, 0.5, 'y')"
            ]
          },
          "metadata": {},
          "execution_count": 75
        },
        {
          "output_type": "display_data",
          "data": {
            "text/plain": [
              "<Figure size 432x288 with 1 Axes>"
            ],
            "image/png": "[encoded data removed]"
          },
          "metadata": {
            "needs_background": "light"
          }
        }
      ]
    },
    {
      "cell_type": "markdown",
      "source": [
        "### **Producto cruz o producto vectorial:**"
      ],
      "metadata": {
        "id": "zBSxS4pRekpu"
      }
    },
    {
      "cell_type": "markdown",
      "source": [
        "El producto vectorial o producto cruz de dos vectores se representa como a x b (se interpreta como \"a cruz b\"). Matemáticamente, el producto cruz de un vector a por un vector v tendría la fórmula siguiente:\n",
        "\n",
        "\n",
        "![producto cruz khan academy.png](data:image/png;base64,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)\n",
        "\n",
        "Fuente: Khan academy (https://es.khanacademy.org/)"
      ],
      "metadata": {
        "id": "54sShvlcevyC"
      }
    },
    {
      "cell_type": "code",
      "source": [
        "#Al tener vectores a y b\n",
        "a = np.array([13,26,91])\n",
        "b = np.array([25,-43,11])\n",
        "\n",
        "#Obtenemos el producto cruz de a x b con la sentencia np.cross(a,b)\n",
        "np.cross(a,b)"
      ],
      "metadata": {
        "colab": {
          "base_uri": "https://localhost:8080/"
        },
        "id": "sRanCpV_eiil",
        "outputId": "6f86c779-d3f8-401d-8a61-d99a868ef7e7"
      },
      "execution_count": null,
      "outputs": [
        {
          "output_type": "execute_result",
          "data": {
            "text/plain": [
              "array([ 4199,  2132, -1209])"
            ]
          },
          "metadata": {},
          "execution_count": 76
        }
      ]
    },
    {
      "cell_type": "code",
      "source": [
        ""
      ],
      "metadata": {
        "id": "yuFmP68WeyTW"
      },
      "execution_count": null,
      "outputs": []
    }
  ]
}